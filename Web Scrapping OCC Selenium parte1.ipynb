{
 "cells": [
  {
   "cell_type": "code",
   "execution_count": 1,
   "id": "05b6a477-6402-4a38-ad22-99e0885bd959",
   "metadata": {},
   "outputs": [],
   "source": [
    "from selenium import webdriver\n",
    "from selenium.webdriver.common.by import By\n",
    "from selenium.webdriver.common.keys import Keys\n",
    "\n",
    "from selenium.webdriver.support.ui import WebDriverWait\n",
    "from selenium.webdriver.support import expected_conditions as EC\n",
    "\n",
    "from bs4 import BeautifulSoup\n",
    "import time"
   ]
  },
  {
   "cell_type": "code",
   "execution_count": 2,
   "id": "fc2b47d5-9f5c-43bf-adee-7e1754754f5a",
   "metadata": {},
   "outputs": [],
   "source": [
    "def job_id(soup):\n",
    "    get_jobcard=soup.find_all(\"div\",class_=\"flex flex-col\")\n",
    "    clases=['bg-bg-surface-default rounded-xs border border-border-default-subtle transition duration-300 ease-in-out relative mb-2 py-4 px-6 sm:py-6 sm:px-8 hover:shadow-elevation-5 hover:-translate-y-1 md:hover:shadow-lg cursor-pointer !bg-bg-action-secondary-hover',\n",
    "            'bg-bg-surface-default rounded-xs border border-border-default-subtle transition duration-300 ease-in-out relative mb-2 py-4 px-6 sm:py-6 sm:px-8 hover:shadow-elevation-5 hover:-translate-y-1 md:hover:shadow-lg cursor-pointer before:content-[\"\"] before:w-1 before:bg-icon-brand-default before:absolute before:top-0 before:left-0 before:bottom-0 before:rounded-tl-xs before:rounded-bl-xs',\n",
    "            'bg-bg-surface-default rounded-xs border border-border-default-subtle transition duration-300 ease-in-out relative mb-2 py-4 px-6 sm:py-6 sm:px-8 hover:shadow-elevation-5 hover:-translate-y-1 md:hover:shadow-lg cursor-pointer']\n",
    "    job_ids=[]\n",
    "    for i in range(len(clases)):\n",
    "        get_jobcard2=get_jobcard[0].find_all(class_=clases[i])\n",
    "        for i in range(len(get_jobcard2)):\n",
    "            job_ids.append(get_jobcard2[i][\"id\"].split(\"-\")[-1])\n",
    "    return job_ids\n",
    "\n",
    "def url_trabajo_pagina1(url,job_ids):\n",
    "    urls=[]\n",
    "    for i in job_ids:\n",
    "        url2=f\"{url}?jobid={i}\"\n",
    "        urls.append(url2)\n",
    "    return urls\n",
    "    \n",
    "def url_trabajo_pagina2(url,job_ids):\n",
    "    urls=[]\n",
    "    for i in job_ids:\n",
    "        url2=f\"{url}&jobid={i}\"\n",
    "        urls.append(url2)\n",
    "    return urls"
   ]
  },
  {
   "cell_type": "code",
   "execution_count": 3,
   "id": "495fc836-9dbc-42b6-887f-aa282c11002a",
   "metadata": {},
   "outputs": [
    {
     "data": {
      "text/plain": [
       "'driver=webdriver.Firefox()\\ndriver.get(\\'https://www.occ.com.mx/\\')\\n\\nbuscador=driver.find_element(By.CSS_SELECTOR, \"div.mb-4:nth-child(1) > input:nth-child(2)\")\\nbuscador.send_keys(\"Data Scientist\" + Keys.ENTER)\\n\\ntry:\\n    element=WebDriverWait(driver,3).until(EC.presence_of_element_located((By.CSS_SELECTOR,\"#relatedSearch-link-desktop-Consultor-De-Datos\"))\\n                                          )\\n    element.click()\\nexcept:\\n    driver.quit()'"
      ]
     },
     "execution_count": 3,
     "metadata": {},
     "output_type": "execute_result"
    }
   ],
   "source": [
    "\"\"\"driver=webdriver.Firefox()\n",
    "driver.get('https://www.occ.com.mx/')\n",
    "\n",
    "buscador=driver.find_element(By.CSS_SELECTOR, \"div.mb-4:nth-child(1) > input:nth-child(2)\")\n",
    "buscador.send_keys(\"Data Scientist\" + Keys.ENTER)\n",
    "\n",
    "try:\n",
    "    element=WebDriverWait(driver,3).until(EC.presence_of_element_located((By.CSS_SELECTOR,\"#relatedSearch-link-desktop-Consultor-De-Datos\"))\n",
    "                                          )\n",
    "    element.click()\n",
    "except:\n",
    "    driver.quit()\"\"\""
   ]
  },
  {
   "cell_type": "code",
   "execution_count": 4,
   "id": "1ad84eaa-3fe8-4f79-86df-23a569750daf",
   "metadata": {},
   "outputs": [],
   "source": [
    "driver=webdriver.Firefox()\n",
    "url='https://www.occ.com.mx/empleos/de-Data-Scientist/'\n",
    "#url='https://www.occ.com.mx/empleos/de-Data-Scientist/?page=2'\n",
    "driver.get(url)\n",
    "soup=BeautifulSoup(driver.page_source,\"lxml\")\n",
    "driver.quit()"
   ]
  },
  {
   "cell_type": "code",
   "execution_count": 5,
   "id": "0cbac1f9-3c35-49ad-aea4-8bc2f5125a01",
   "metadata": {},
   "outputs": [
    {
     "data": {
      "text/plain": [
       "['19617741',\n",
       " '19617633',\n",
       " '19618287',\n",
       " '19690162',\n",
       " '19691789',\n",
       " '19655022',\n",
       " '19652643',\n",
       " '19689552',\n",
       " '19635486',\n",
       " '19689591',\n",
       " '19673589',\n",
       " '19697119',\n",
       " '19646554',\n",
       " '19419066',\n",
       " '19358421',\n",
       " '19358310',\n",
       " '19598951',\n",
       " '19641029',\n",
       " '19504152']"
      ]
     },
     "execution_count": 5,
     "metadata": {},
     "output_type": "execute_result"
    }
   ],
   "source": [
    "job_ids=job_id(soup)\n",
    "job_ids"
   ]
  },
  {
   "cell_type": "code",
   "execution_count": 7,
   "id": "e2c59d79-7ec8-450b-acf7-e835e011a189",
   "metadata": {},
   "outputs": [],
   "source": [
    "urls_trabajo_hoja1=url_trabajo_pagina1(url,job_ids)"
   ]
  },
  {
   "cell_type": "code",
   "execution_count": 8,
   "id": "cc9e5795-74df-4924-9550-bb216c5a6071",
   "metadata": {},
   "outputs": [
    {
     "data": {
      "text/plain": [
       "['https://www.occ.com.mx/empleos/de-Data-Scientist/?jobid=19617741',\n",
       " 'https://www.occ.com.mx/empleos/de-Data-Scientist/?jobid=19617633',\n",
       " 'https://www.occ.com.mx/empleos/de-Data-Scientist/?jobid=19618287',\n",
       " 'https://www.occ.com.mx/empleos/de-Data-Scientist/?jobid=19690162',\n",
       " 'https://www.occ.com.mx/empleos/de-Data-Scientist/?jobid=19691789',\n",
       " 'https://www.occ.com.mx/empleos/de-Data-Scientist/?jobid=19655022',\n",
       " 'https://www.occ.com.mx/empleos/de-Data-Scientist/?jobid=19652643',\n",
       " 'https://www.occ.com.mx/empleos/de-Data-Scientist/?jobid=19689552',\n",
       " 'https://www.occ.com.mx/empleos/de-Data-Scientist/?jobid=19635486',\n",
       " 'https://www.occ.com.mx/empleos/de-Data-Scientist/?jobid=19689591',\n",
       " 'https://www.occ.com.mx/empleos/de-Data-Scientist/?jobid=19673589',\n",
       " 'https://www.occ.com.mx/empleos/de-Data-Scientist/?jobid=19697119',\n",
       " 'https://www.occ.com.mx/empleos/de-Data-Scientist/?jobid=19646554',\n",
       " 'https://www.occ.com.mx/empleos/de-Data-Scientist/?jobid=19419066',\n",
       " 'https://www.occ.com.mx/empleos/de-Data-Scientist/?jobid=19358421',\n",
       " 'https://www.occ.com.mx/empleos/de-Data-Scientist/?jobid=19358310',\n",
       " 'https://www.occ.com.mx/empleos/de-Data-Scientist/?jobid=19598951',\n",
       " 'https://www.occ.com.mx/empleos/de-Data-Scientist/?jobid=19641029',\n",
       " 'https://www.occ.com.mx/empleos/de-Data-Scientist/?jobid=19504152']"
      ]
     },
     "execution_count": 8,
     "metadata": {},
     "output_type": "execute_result"
    }
   ],
   "source": [
    "urls_trabajo_hoja1"
   ]
  },
  {
   "cell_type": "code",
   "execution_count": 12,
   "id": "8c9a709a-ede8-4bf9-bad6-b0f83fa86a78",
   "metadata": {},
   "outputs": [
    {
     "data": {
      "text/plain": [
       "['https://www.occ.com.mx/empleos/de-Data-Scientist/?jobid=19617741',\n",
       " 'https://www.occ.com.mx/empleos/de-Data-Scientist/?jobid=19617633',\n",
       " 'https://www.occ.com.mx/empleos/de-Data-Scientist/?jobid=19618287',\n",
       " 'https://www.occ.com.mx/empleos/de-Data-Scientist/?jobid=19690162',\n",
       " 'https://www.occ.com.mx/empleos/de-Data-Scientist/?jobid=19691789',\n",
       " 'https://www.occ.com.mx/empleos/de-Data-Scientist/?jobid=19655022',\n",
       " 'https://www.occ.com.mx/empleos/de-Data-Scientist/?jobid=19652643',\n",
       " 'https://www.occ.com.mx/empleos/de-Data-Scientist/?jobid=19689552',\n",
       " 'https://www.occ.com.mx/empleos/de-Data-Scientist/?jobid=19635486',\n",
       " 'https://www.occ.com.mx/empleos/de-Data-Scientist/?jobid=19689591',\n",
       " 'https://www.occ.com.mx/empleos/de-Data-Scientist/?jobid=19673589',\n",
       " 'https://www.occ.com.mx/empleos/de-Data-Scientist/?jobid=19697119',\n",
       " 'https://www.occ.com.mx/empleos/de-Data-Scientist/?jobid=19646554',\n",
       " 'https://www.occ.com.mx/empleos/de-Data-Scientist/?jobid=19419066',\n",
       " 'https://www.occ.com.mx/empleos/de-Data-Scientist/?jobid=19358421',\n",
       " 'https://www.occ.com.mx/empleos/de-Data-Scientist/?jobid=19358310',\n",
       " 'https://www.occ.com.mx/empleos/de-Data-Scientist/?jobid=19598951',\n",
       " 'https://www.occ.com.mx/empleos/de-Data-Scientist/?jobid=19641029',\n",
       " 'https://www.occ.com.mx/empleos/de-Data-Scientist/?jobid=19504152']"
      ]
     },
     "execution_count": 12,
     "metadata": {},
     "output_type": "execute_result"
    }
   ],
   "source": [
    "compilado=[]\n",
    "compilado=compilado+urls_trabajo_hoja1\n",
    "compilado"
   ]
  },
  {
   "cell_type": "markdown",
   "id": "1972f882-b23f-4a00-9673-e6fb4be02e35",
   "metadata": {},
   "source": [
    "# Hoja 2 a la 10"
   ]
  },
  {
   "cell_type": "code",
   "execution_count": null,
   "id": "ba3a9126-6b8c-4900-bb12-635551b368d5",
   "metadata": {},
   "outputs": [],
   "source": [
    "\"https://www.occ.com.mx/empleos/de-Data-Scientist/?page=2\"\"&jobid=19646554\""
   ]
  },
  {
   "cell_type": "code",
   "execution_count": 13,
   "id": "953dd76c-6d4f-4ede-8bbe-742a8112d868",
   "metadata": {
    "scrolled": true
   },
   "outputs": [
    {
     "name": "stdout",
     "output_type": "stream",
     "text": [
      "['19311171', '19573019', '19327389', '19394283', '19603652', '19499535', '19409270', '19487655', '19404607', '19565587', '19636827', '19407720', '19358716', '19327230', '19426136', '19392495', '19591230', '19475905', '19303893', '19554573']\n",
      "['https://www.occ.com.mx/empleos/de-Data-Scientist/?jobid=19617741', 'https://www.occ.com.mx/empleos/de-Data-Scientist/?jobid=19617633', 'https://www.occ.com.mx/empleos/de-Data-Scientist/?jobid=19618287', 'https://www.occ.com.mx/empleos/de-Data-Scientist/?jobid=19690162', 'https://www.occ.com.mx/empleos/de-Data-Scientist/?jobid=19691789', 'https://www.occ.com.mx/empleos/de-Data-Scientist/?jobid=19655022', 'https://www.occ.com.mx/empleos/de-Data-Scientist/?jobid=19652643', 'https://www.occ.com.mx/empleos/de-Data-Scientist/?jobid=19689552', 'https://www.occ.com.mx/empleos/de-Data-Scientist/?jobid=19635486', 'https://www.occ.com.mx/empleos/de-Data-Scientist/?jobid=19689591', 'https://www.occ.com.mx/empleos/de-Data-Scientist/?jobid=19673589', 'https://www.occ.com.mx/empleos/de-Data-Scientist/?jobid=19697119', 'https://www.occ.com.mx/empleos/de-Data-Scientist/?jobid=19646554', 'https://www.occ.com.mx/empleos/de-Data-Scientist/?jobid=19419066', 'https://www.occ.com.mx/empleos/de-Data-Scientist/?jobid=19358421', 'https://www.occ.com.mx/empleos/de-Data-Scientist/?jobid=19358310', 'https://www.occ.com.mx/empleos/de-Data-Scientist/?jobid=19598951', 'https://www.occ.com.mx/empleos/de-Data-Scientist/?jobid=19641029', 'https://www.occ.com.mx/empleos/de-Data-Scientist/?jobid=19504152', 'https://www.occ.com.mx/empleos/de-Data-Scientist/?page=2&jobid=19311171', 'https://www.occ.com.mx/empleos/de-Data-Scientist/?page=2&jobid=19573019', 'https://www.occ.com.mx/empleos/de-Data-Scientist/?page=2&jobid=19327389', 'https://www.occ.com.mx/empleos/de-Data-Scientist/?page=2&jobid=19394283', 'https://www.occ.com.mx/empleos/de-Data-Scientist/?page=2&jobid=19603652', 'https://www.occ.com.mx/empleos/de-Data-Scientist/?page=2&jobid=19499535', 'https://www.occ.com.mx/empleos/de-Data-Scientist/?page=2&jobid=19409270', 'https://www.occ.com.mx/empleos/de-Data-Scientist/?page=2&jobid=19487655', 'https://www.occ.com.mx/empleos/de-Data-Scientist/?page=2&jobid=19404607', 'https://www.occ.com.mx/empleos/de-Data-Scientist/?page=2&jobid=19565587', 'https://www.occ.com.mx/empleos/de-Data-Scientist/?page=2&jobid=19636827', 'https://www.occ.com.mx/empleos/de-Data-Scientist/?page=2&jobid=19407720', 'https://www.occ.com.mx/empleos/de-Data-Scientist/?page=2&jobid=19358716', 'https://www.occ.com.mx/empleos/de-Data-Scientist/?page=2&jobid=19327230', 'https://www.occ.com.mx/empleos/de-Data-Scientist/?page=2&jobid=19426136', 'https://www.occ.com.mx/empleos/de-Data-Scientist/?page=2&jobid=19392495', 'https://www.occ.com.mx/empleos/de-Data-Scientist/?page=2&jobid=19591230', 'https://www.occ.com.mx/empleos/de-Data-Scientist/?page=2&jobid=19475905', 'https://www.occ.com.mx/empleos/de-Data-Scientist/?page=2&jobid=19303893', 'https://www.occ.com.mx/empleos/de-Data-Scientist/?page=2&jobid=19554573']\n",
      "['19297106', '19425143', '19269679', '19393528', '19515813', '19318467', '19325872', '19500217', '19553005', '19503248', '19482366', '19310904', '19503375', '19371437', '19391683', '19578054', '19617669', '19371364', '19591460', '19319189']\n",
      "['https://www.occ.com.mx/empleos/de-Data-Scientist/?jobid=19617741', 'https://www.occ.com.mx/empleos/de-Data-Scientist/?jobid=19617633', 'https://www.occ.com.mx/empleos/de-Data-Scientist/?jobid=19618287', 'https://www.occ.com.mx/empleos/de-Data-Scientist/?jobid=19690162', 'https://www.occ.com.mx/empleos/de-Data-Scientist/?jobid=19691789', 'https://www.occ.com.mx/empleos/de-Data-Scientist/?jobid=19655022', 'https://www.occ.com.mx/empleos/de-Data-Scientist/?jobid=19652643', 'https://www.occ.com.mx/empleos/de-Data-Scientist/?jobid=19689552', 'https://www.occ.com.mx/empleos/de-Data-Scientist/?jobid=19635486', 'https://www.occ.com.mx/empleos/de-Data-Scientist/?jobid=19689591', 'https://www.occ.com.mx/empleos/de-Data-Scientist/?jobid=19673589', 'https://www.occ.com.mx/empleos/de-Data-Scientist/?jobid=19697119', 'https://www.occ.com.mx/empleos/de-Data-Scientist/?jobid=19646554', 'https://www.occ.com.mx/empleos/de-Data-Scientist/?jobid=19419066', 'https://www.occ.com.mx/empleos/de-Data-Scientist/?jobid=19358421', 'https://www.occ.com.mx/empleos/de-Data-Scientist/?jobid=19358310', 'https://www.occ.com.mx/empleos/de-Data-Scientist/?jobid=19598951', 'https://www.occ.com.mx/empleos/de-Data-Scientist/?jobid=19641029', 'https://www.occ.com.mx/empleos/de-Data-Scientist/?jobid=19504152', 'https://www.occ.com.mx/empleos/de-Data-Scientist/?page=2&jobid=19311171', 'https://www.occ.com.mx/empleos/de-Data-Scientist/?page=2&jobid=19573019', 'https://www.occ.com.mx/empleos/de-Data-Scientist/?page=2&jobid=19327389', 'https://www.occ.com.mx/empleos/de-Data-Scientist/?page=2&jobid=19394283', 'https://www.occ.com.mx/empleos/de-Data-Scientist/?page=2&jobid=19603652', 'https://www.occ.com.mx/empleos/de-Data-Scientist/?page=2&jobid=19499535', 'https://www.occ.com.mx/empleos/de-Data-Scientist/?page=2&jobid=19409270', 'https://www.occ.com.mx/empleos/de-Data-Scientist/?page=2&jobid=19487655', 'https://www.occ.com.mx/empleos/de-Data-Scientist/?page=2&jobid=19404607', 'https://www.occ.com.mx/empleos/de-Data-Scientist/?page=2&jobid=19565587', 'https://www.occ.com.mx/empleos/de-Data-Scientist/?page=2&jobid=19636827', 'https://www.occ.com.mx/empleos/de-Data-Scientist/?page=2&jobid=19407720', 'https://www.occ.com.mx/empleos/de-Data-Scientist/?page=2&jobid=19358716', 'https://www.occ.com.mx/empleos/de-Data-Scientist/?page=2&jobid=19327230', 'https://www.occ.com.mx/empleos/de-Data-Scientist/?page=2&jobid=19426136', 'https://www.occ.com.mx/empleos/de-Data-Scientist/?page=2&jobid=19392495', 'https://www.occ.com.mx/empleos/de-Data-Scientist/?page=2&jobid=19591230', 'https://www.occ.com.mx/empleos/de-Data-Scientist/?page=2&jobid=19475905', 'https://www.occ.com.mx/empleos/de-Data-Scientist/?page=2&jobid=19303893', 'https://www.occ.com.mx/empleos/de-Data-Scientist/?page=2&jobid=19554573', 'https://www.occ.com.mx/empleos/de-Data-Scientist/?page=3&jobid=19297106', 'https://www.occ.com.mx/empleos/de-Data-Scientist/?page=3&jobid=19425143', 'https://www.occ.com.mx/empleos/de-Data-Scientist/?page=3&jobid=19269679', 'https://www.occ.com.mx/empleos/de-Data-Scientist/?page=3&jobid=19393528', 'https://www.occ.com.mx/empleos/de-Data-Scientist/?page=3&jobid=19515813', 'https://www.occ.com.mx/empleos/de-Data-Scientist/?page=3&jobid=19318467', 'https://www.occ.com.mx/empleos/de-Data-Scientist/?page=3&jobid=19325872', 'https://www.occ.com.mx/empleos/de-Data-Scientist/?page=3&jobid=19500217', 'https://www.occ.com.mx/empleos/de-Data-Scientist/?page=3&jobid=19553005', 'https://www.occ.com.mx/empleos/de-Data-Scientist/?page=3&jobid=19503248', 'https://www.occ.com.mx/empleos/de-Data-Scientist/?page=3&jobid=19482366', 'https://www.occ.com.mx/empleos/de-Data-Scientist/?page=3&jobid=19310904', 'https://www.occ.com.mx/empleos/de-Data-Scientist/?page=3&jobid=19503375', 'https://www.occ.com.mx/empleos/de-Data-Scientist/?page=3&jobid=19371437', 'https://www.occ.com.mx/empleos/de-Data-Scientist/?page=3&jobid=19391683', 'https://www.occ.com.mx/empleos/de-Data-Scientist/?page=3&jobid=19578054', 'https://www.occ.com.mx/empleos/de-Data-Scientist/?page=3&jobid=19617669', 'https://www.occ.com.mx/empleos/de-Data-Scientist/?page=3&jobid=19371364', 'https://www.occ.com.mx/empleos/de-Data-Scientist/?page=3&jobid=19591460', 'https://www.occ.com.mx/empleos/de-Data-Scientist/?page=3&jobid=19319189']\n",
      "['19357795', '19394081', '19565801', '19481827', '19554419', '19248188', '19410133', '19249108', '19250052', '19483729', '19488771', '19581844', '19553728', '19425831', '19339906', '19219622', '19474298', '19297466', '19590573', '19404128']\n",
      "['https://www.occ.com.mx/empleos/de-Data-Scientist/?jobid=19617741', 'https://www.occ.com.mx/empleos/de-Data-Scientist/?jobid=19617633', 'https://www.occ.com.mx/empleos/de-Data-Scientist/?jobid=19618287', 'https://www.occ.com.mx/empleos/de-Data-Scientist/?jobid=19690162', 'https://www.occ.com.mx/empleos/de-Data-Scientist/?jobid=19691789', 'https://www.occ.com.mx/empleos/de-Data-Scientist/?jobid=19655022', 'https://www.occ.com.mx/empleos/de-Data-Scientist/?jobid=19652643', 'https://www.occ.com.mx/empleos/de-Data-Scientist/?jobid=19689552', 'https://www.occ.com.mx/empleos/de-Data-Scientist/?jobid=19635486', 'https://www.occ.com.mx/empleos/de-Data-Scientist/?jobid=19689591', 'https://www.occ.com.mx/empleos/de-Data-Scientist/?jobid=19673589', 'https://www.occ.com.mx/empleos/de-Data-Scientist/?jobid=19697119', 'https://www.occ.com.mx/empleos/de-Data-Scientist/?jobid=19646554', 'https://www.occ.com.mx/empleos/de-Data-Scientist/?jobid=19419066', 'https://www.occ.com.mx/empleos/de-Data-Scientist/?jobid=19358421', 'https://www.occ.com.mx/empleos/de-Data-Scientist/?jobid=19358310', 'https://www.occ.com.mx/empleos/de-Data-Scientist/?jobid=19598951', 'https://www.occ.com.mx/empleos/de-Data-Scientist/?jobid=19641029', 'https://www.occ.com.mx/empleos/de-Data-Scientist/?jobid=19504152', 'https://www.occ.com.mx/empleos/de-Data-Scientist/?page=2&jobid=19311171', 'https://www.occ.com.mx/empleos/de-Data-Scientist/?page=2&jobid=19573019', 'https://www.occ.com.mx/empleos/de-Data-Scientist/?page=2&jobid=19327389', 'https://www.occ.com.mx/empleos/de-Data-Scientist/?page=2&jobid=19394283', 'https://www.occ.com.mx/empleos/de-Data-Scientist/?page=2&jobid=19603652', 'https://www.occ.com.mx/empleos/de-Data-Scientist/?page=2&jobid=19499535', 'https://www.occ.com.mx/empleos/de-Data-Scientist/?page=2&jobid=19409270', 'https://www.occ.com.mx/empleos/de-Data-Scientist/?page=2&jobid=19487655', 'https://www.occ.com.mx/empleos/de-Data-Scientist/?page=2&jobid=19404607', 'https://www.occ.com.mx/empleos/de-Data-Scientist/?page=2&jobid=19565587', 'https://www.occ.com.mx/empleos/de-Data-Scientist/?page=2&jobid=19636827', 'https://www.occ.com.mx/empleos/de-Data-Scientist/?page=2&jobid=19407720', 'https://www.occ.com.mx/empleos/de-Data-Scientist/?page=2&jobid=19358716', 'https://www.occ.com.mx/empleos/de-Data-Scientist/?page=2&jobid=19327230', 'https://www.occ.com.mx/empleos/de-Data-Scientist/?page=2&jobid=19426136', 'https://www.occ.com.mx/empleos/de-Data-Scientist/?page=2&jobid=19392495', 'https://www.occ.com.mx/empleos/de-Data-Scientist/?page=2&jobid=19591230', 'https://www.occ.com.mx/empleos/de-Data-Scientist/?page=2&jobid=19475905', 'https://www.occ.com.mx/empleos/de-Data-Scientist/?page=2&jobid=19303893', 'https://www.occ.com.mx/empleos/de-Data-Scientist/?page=2&jobid=19554573', 'https://www.occ.com.mx/empleos/de-Data-Scientist/?page=3&jobid=19297106', 'https://www.occ.com.mx/empleos/de-Data-Scientist/?page=3&jobid=19425143', 'https://www.occ.com.mx/empleos/de-Data-Scientist/?page=3&jobid=19269679', 'https://www.occ.com.mx/empleos/de-Data-Scientist/?page=3&jobid=19393528', 'https://www.occ.com.mx/empleos/de-Data-Scientist/?page=3&jobid=19515813', 'https://www.occ.com.mx/empleos/de-Data-Scientist/?page=3&jobid=19318467', 'https://www.occ.com.mx/empleos/de-Data-Scientist/?page=3&jobid=19325872', 'https://www.occ.com.mx/empleos/de-Data-Scientist/?page=3&jobid=19500217', 'https://www.occ.com.mx/empleos/de-Data-Scientist/?page=3&jobid=19553005', 'https://www.occ.com.mx/empleos/de-Data-Scientist/?page=3&jobid=19503248', 'https://www.occ.com.mx/empleos/de-Data-Scientist/?page=3&jobid=19482366', 'https://www.occ.com.mx/empleos/de-Data-Scientist/?page=3&jobid=19310904', 'https://www.occ.com.mx/empleos/de-Data-Scientist/?page=3&jobid=19503375', 'https://www.occ.com.mx/empleos/de-Data-Scientist/?page=3&jobid=19371437', 'https://www.occ.com.mx/empleos/de-Data-Scientist/?page=3&jobid=19391683', 'https://www.occ.com.mx/empleos/de-Data-Scientist/?page=3&jobid=19578054', 'https://www.occ.com.mx/empleos/de-Data-Scientist/?page=3&jobid=19617669', 'https://www.occ.com.mx/empleos/de-Data-Scientist/?page=3&jobid=19371364', 'https://www.occ.com.mx/empleos/de-Data-Scientist/?page=3&jobid=19591460', 'https://www.occ.com.mx/empleos/de-Data-Scientist/?page=3&jobid=19319189', 'https://www.occ.com.mx/empleos/de-Data-Scientist/?page=4&jobid=19357795', 'https://www.occ.com.mx/empleos/de-Data-Scientist/?page=4&jobid=19394081', 'https://www.occ.com.mx/empleos/de-Data-Scientist/?page=4&jobid=19565801', 'https://www.occ.com.mx/empleos/de-Data-Scientist/?page=4&jobid=19481827', 'https://www.occ.com.mx/empleos/de-Data-Scientist/?page=4&jobid=19554419', 'https://www.occ.com.mx/empleos/de-Data-Scientist/?page=4&jobid=19248188', 'https://www.occ.com.mx/empleos/de-Data-Scientist/?page=4&jobid=19410133', 'https://www.occ.com.mx/empleos/de-Data-Scientist/?page=4&jobid=19249108', 'https://www.occ.com.mx/empleos/de-Data-Scientist/?page=4&jobid=19250052', 'https://www.occ.com.mx/empleos/de-Data-Scientist/?page=4&jobid=19483729', 'https://www.occ.com.mx/empleos/de-Data-Scientist/?page=4&jobid=19488771', 'https://www.occ.com.mx/empleos/de-Data-Scientist/?page=4&jobid=19581844', 'https://www.occ.com.mx/empleos/de-Data-Scientist/?page=4&jobid=19553728', 'https://www.occ.com.mx/empleos/de-Data-Scientist/?page=4&jobid=19425831', 'https://www.occ.com.mx/empleos/de-Data-Scientist/?page=4&jobid=19339906', 'https://www.occ.com.mx/empleos/de-Data-Scientist/?page=4&jobid=19219622', 'https://www.occ.com.mx/empleos/de-Data-Scientist/?page=4&jobid=19474298', 'https://www.occ.com.mx/empleos/de-Data-Scientist/?page=4&jobid=19297466', 'https://www.occ.com.mx/empleos/de-Data-Scientist/?page=4&jobid=19590573', 'https://www.occ.com.mx/empleos/de-Data-Scientist/?page=4&jobid=19404128']\n",
      "['19262585', '19220551', '19488482', '19590741', '19504834', '19530967', '19410067', '19474088', '19363187', '19598182', '19641713', '19392737', '19648110', '19269168', '19363622', '19484223', '19604873', '19571269', '19545697', '19342167']\n",
      "['https://www.occ.com.mx/empleos/de-Data-Scientist/?jobid=19617741', 'https://www.occ.com.mx/empleos/de-Data-Scientist/?jobid=19617633', 'https://www.occ.com.mx/empleos/de-Data-Scientist/?jobid=19618287', 'https://www.occ.com.mx/empleos/de-Data-Scientist/?jobid=19690162', 'https://www.occ.com.mx/empleos/de-Data-Scientist/?jobid=19691789', 'https://www.occ.com.mx/empleos/de-Data-Scientist/?jobid=19655022', 'https://www.occ.com.mx/empleos/de-Data-Scientist/?jobid=19652643', 'https://www.occ.com.mx/empleos/de-Data-Scientist/?jobid=19689552', 'https://www.occ.com.mx/empleos/de-Data-Scientist/?jobid=19635486', 'https://www.occ.com.mx/empleos/de-Data-Scientist/?jobid=19689591', 'https://www.occ.com.mx/empleos/de-Data-Scientist/?jobid=19673589', 'https://www.occ.com.mx/empleos/de-Data-Scientist/?jobid=19697119', 'https://www.occ.com.mx/empleos/de-Data-Scientist/?jobid=19646554', 'https://www.occ.com.mx/empleos/de-Data-Scientist/?jobid=19419066', 'https://www.occ.com.mx/empleos/de-Data-Scientist/?jobid=19358421', 'https://www.occ.com.mx/empleos/de-Data-Scientist/?jobid=19358310', 'https://www.occ.com.mx/empleos/de-Data-Scientist/?jobid=19598951', 'https://www.occ.com.mx/empleos/de-Data-Scientist/?jobid=19641029', 'https://www.occ.com.mx/empleos/de-Data-Scientist/?jobid=19504152', 'https://www.occ.com.mx/empleos/de-Data-Scientist/?page=2&jobid=19311171', 'https://www.occ.com.mx/empleos/de-Data-Scientist/?page=2&jobid=19573019', 'https://www.occ.com.mx/empleos/de-Data-Scientist/?page=2&jobid=19327389', 'https://www.occ.com.mx/empleos/de-Data-Scientist/?page=2&jobid=19394283', 'https://www.occ.com.mx/empleos/de-Data-Scientist/?page=2&jobid=19603652', 'https://www.occ.com.mx/empleos/de-Data-Scientist/?page=2&jobid=19499535', 'https://www.occ.com.mx/empleos/de-Data-Scientist/?page=2&jobid=19409270', 'https://www.occ.com.mx/empleos/de-Data-Scientist/?page=2&jobid=19487655', 'https://www.occ.com.mx/empleos/de-Data-Scientist/?page=2&jobid=19404607', 'https://www.occ.com.mx/empleos/de-Data-Scientist/?page=2&jobid=19565587', 'https://www.occ.com.mx/empleos/de-Data-Scientist/?page=2&jobid=19636827', 'https://www.occ.com.mx/empleos/de-Data-Scientist/?page=2&jobid=19407720', 'https://www.occ.com.mx/empleos/de-Data-Scientist/?page=2&jobid=19358716', 'https://www.occ.com.mx/empleos/de-Data-Scientist/?page=2&jobid=19327230', 'https://www.occ.com.mx/empleos/de-Data-Scientist/?page=2&jobid=19426136', 'https://www.occ.com.mx/empleos/de-Data-Scientist/?page=2&jobid=19392495', 'https://www.occ.com.mx/empleos/de-Data-Scientist/?page=2&jobid=19591230', 'https://www.occ.com.mx/empleos/de-Data-Scientist/?page=2&jobid=19475905', 'https://www.occ.com.mx/empleos/de-Data-Scientist/?page=2&jobid=19303893', 'https://www.occ.com.mx/empleos/de-Data-Scientist/?page=2&jobid=19554573', 'https://www.occ.com.mx/empleos/de-Data-Scientist/?page=3&jobid=19297106', 'https://www.occ.com.mx/empleos/de-Data-Scientist/?page=3&jobid=19425143', 'https://www.occ.com.mx/empleos/de-Data-Scientist/?page=3&jobid=19269679', 'https://www.occ.com.mx/empleos/de-Data-Scientist/?page=3&jobid=19393528', 'https://www.occ.com.mx/empleos/de-Data-Scientist/?page=3&jobid=19515813', 'https://www.occ.com.mx/empleos/de-Data-Scientist/?page=3&jobid=19318467', 'https://www.occ.com.mx/empleos/de-Data-Scientist/?page=3&jobid=19325872', 'https://www.occ.com.mx/empleos/de-Data-Scientist/?page=3&jobid=19500217', 'https://www.occ.com.mx/empleos/de-Data-Scientist/?page=3&jobid=19553005', 'https://www.occ.com.mx/empleos/de-Data-Scientist/?page=3&jobid=19503248', 'https://www.occ.com.mx/empleos/de-Data-Scientist/?page=3&jobid=19482366', 'https://www.occ.com.mx/empleos/de-Data-Scientist/?page=3&jobid=19310904', 'https://www.occ.com.mx/empleos/de-Data-Scientist/?page=3&jobid=19503375', 'https://www.occ.com.mx/empleos/de-Data-Scientist/?page=3&jobid=19371437', 'https://www.occ.com.mx/empleos/de-Data-Scientist/?page=3&jobid=19391683', 'https://www.occ.com.mx/empleos/de-Data-Scientist/?page=3&jobid=19578054', 'https://www.occ.com.mx/empleos/de-Data-Scientist/?page=3&jobid=19617669', 'https://www.occ.com.mx/empleos/de-Data-Scientist/?page=3&jobid=19371364', 'https://www.occ.com.mx/empleos/de-Data-Scientist/?page=3&jobid=19591460', 'https://www.occ.com.mx/empleos/de-Data-Scientist/?page=3&jobid=19319189', 'https://www.occ.com.mx/empleos/de-Data-Scientist/?page=4&jobid=19357795', 'https://www.occ.com.mx/empleos/de-Data-Scientist/?page=4&jobid=19394081', 'https://www.occ.com.mx/empleos/de-Data-Scientist/?page=4&jobid=19565801', 'https://www.occ.com.mx/empleos/de-Data-Scientist/?page=4&jobid=19481827', 'https://www.occ.com.mx/empleos/de-Data-Scientist/?page=4&jobid=19554419', 'https://www.occ.com.mx/empleos/de-Data-Scientist/?page=4&jobid=19248188', 'https://www.occ.com.mx/empleos/de-Data-Scientist/?page=4&jobid=19410133', 'https://www.occ.com.mx/empleos/de-Data-Scientist/?page=4&jobid=19249108', 'https://www.occ.com.mx/empleos/de-Data-Scientist/?page=4&jobid=19250052', 'https://www.occ.com.mx/empleos/de-Data-Scientist/?page=4&jobid=19483729', 'https://www.occ.com.mx/empleos/de-Data-Scientist/?page=4&jobid=19488771', 'https://www.occ.com.mx/empleos/de-Data-Scientist/?page=4&jobid=19581844', 'https://www.occ.com.mx/empleos/de-Data-Scientist/?page=4&jobid=19553728', 'https://www.occ.com.mx/empleos/de-Data-Scientist/?page=4&jobid=19425831', 'https://www.occ.com.mx/empleos/de-Data-Scientist/?page=4&jobid=19339906', 'https://www.occ.com.mx/empleos/de-Data-Scientist/?page=4&jobid=19219622', 'https://www.occ.com.mx/empleos/de-Data-Scientist/?page=4&jobid=19474298', 'https://www.occ.com.mx/empleos/de-Data-Scientist/?page=4&jobid=19297466', 'https://www.occ.com.mx/empleos/de-Data-Scientist/?page=4&jobid=19590573', 'https://www.occ.com.mx/empleos/de-Data-Scientist/?page=4&jobid=19404128', 'https://www.occ.com.mx/empleos/de-Data-Scientist/?page=5&jobid=19262585', 'https://www.occ.com.mx/empleos/de-Data-Scientist/?page=5&jobid=19220551', 'https://www.occ.com.mx/empleos/de-Data-Scientist/?page=5&jobid=19488482', 'https://www.occ.com.mx/empleos/de-Data-Scientist/?page=5&jobid=19590741', 'https://www.occ.com.mx/empleos/de-Data-Scientist/?page=5&jobid=19504834', 'https://www.occ.com.mx/empleos/de-Data-Scientist/?page=5&jobid=19530967', 'https://www.occ.com.mx/empleos/de-Data-Scientist/?page=5&jobid=19410067', 'https://www.occ.com.mx/empleos/de-Data-Scientist/?page=5&jobid=19474088', 'https://www.occ.com.mx/empleos/de-Data-Scientist/?page=5&jobid=19363187', 'https://www.occ.com.mx/empleos/de-Data-Scientist/?page=5&jobid=19598182', 'https://www.occ.com.mx/empleos/de-Data-Scientist/?page=5&jobid=19641713', 'https://www.occ.com.mx/empleos/de-Data-Scientist/?page=5&jobid=19392737', 'https://www.occ.com.mx/empleos/de-Data-Scientist/?page=5&jobid=19648110', 'https://www.occ.com.mx/empleos/de-Data-Scientist/?page=5&jobid=19269168', 'https://www.occ.com.mx/empleos/de-Data-Scientist/?page=5&jobid=19363622', 'https://www.occ.com.mx/empleos/de-Data-Scientist/?page=5&jobid=19484223', 'https://www.occ.com.mx/empleos/de-Data-Scientist/?page=5&jobid=19604873', 'https://www.occ.com.mx/empleos/de-Data-Scientist/?page=5&jobid=19571269', 'https://www.occ.com.mx/empleos/de-Data-Scientist/?page=5&jobid=19545697', 'https://www.occ.com.mx/empleos/de-Data-Scientist/?page=5&jobid=19342167']\n",
      "['19249269', '19581725', '19581723', '19369597', '19505366', '19554602', '19554538', '19280507', '19365042', '19393186', '19555222', '19597495', '19279875', '19326540', '19566022', '19420608', '19475045', '19591187', '19597549', '19595271']\n",
      "['https://www.occ.com.mx/empleos/de-Data-Scientist/?jobid=19617741', 'https://www.occ.com.mx/empleos/de-Data-Scientist/?jobid=19617633', 'https://www.occ.com.mx/empleos/de-Data-Scientist/?jobid=19618287', 'https://www.occ.com.mx/empleos/de-Data-Scientist/?jobid=19690162', 'https://www.occ.com.mx/empleos/de-Data-Scientist/?jobid=19691789', 'https://www.occ.com.mx/empleos/de-Data-Scientist/?jobid=19655022', 'https://www.occ.com.mx/empleos/de-Data-Scientist/?jobid=19652643', 'https://www.occ.com.mx/empleos/de-Data-Scientist/?jobid=19689552', 'https://www.occ.com.mx/empleos/de-Data-Scientist/?jobid=19635486', 'https://www.occ.com.mx/empleos/de-Data-Scientist/?jobid=19689591', 'https://www.occ.com.mx/empleos/de-Data-Scientist/?jobid=19673589', 'https://www.occ.com.mx/empleos/de-Data-Scientist/?jobid=19697119', 'https://www.occ.com.mx/empleos/de-Data-Scientist/?jobid=19646554', 'https://www.occ.com.mx/empleos/de-Data-Scientist/?jobid=19419066', 'https://www.occ.com.mx/empleos/de-Data-Scientist/?jobid=19358421', 'https://www.occ.com.mx/empleos/de-Data-Scientist/?jobid=19358310', 'https://www.occ.com.mx/empleos/de-Data-Scientist/?jobid=19598951', 'https://www.occ.com.mx/empleos/de-Data-Scientist/?jobid=19641029', 'https://www.occ.com.mx/empleos/de-Data-Scientist/?jobid=19504152', 'https://www.occ.com.mx/empleos/de-Data-Scientist/?page=2&jobid=19311171', 'https://www.occ.com.mx/empleos/de-Data-Scientist/?page=2&jobid=19573019', 'https://www.occ.com.mx/empleos/de-Data-Scientist/?page=2&jobid=19327389', 'https://www.occ.com.mx/empleos/de-Data-Scientist/?page=2&jobid=19394283', 'https://www.occ.com.mx/empleos/de-Data-Scientist/?page=2&jobid=19603652', 'https://www.occ.com.mx/empleos/de-Data-Scientist/?page=2&jobid=19499535', 'https://www.occ.com.mx/empleos/de-Data-Scientist/?page=2&jobid=19409270', 'https://www.occ.com.mx/empleos/de-Data-Scientist/?page=2&jobid=19487655', 'https://www.occ.com.mx/empleos/de-Data-Scientist/?page=2&jobid=19404607', 'https://www.occ.com.mx/empleos/de-Data-Scientist/?page=2&jobid=19565587', 'https://www.occ.com.mx/empleos/de-Data-Scientist/?page=2&jobid=19636827', 'https://www.occ.com.mx/empleos/de-Data-Scientist/?page=2&jobid=19407720', 'https://www.occ.com.mx/empleos/de-Data-Scientist/?page=2&jobid=19358716', 'https://www.occ.com.mx/empleos/de-Data-Scientist/?page=2&jobid=19327230', 'https://www.occ.com.mx/empleos/de-Data-Scientist/?page=2&jobid=19426136', 'https://www.occ.com.mx/empleos/de-Data-Scientist/?page=2&jobid=19392495', 'https://www.occ.com.mx/empleos/de-Data-Scientist/?page=2&jobid=19591230', 'https://www.occ.com.mx/empleos/de-Data-Scientist/?page=2&jobid=19475905', 'https://www.occ.com.mx/empleos/de-Data-Scientist/?page=2&jobid=19303893', 'https://www.occ.com.mx/empleos/de-Data-Scientist/?page=2&jobid=19554573', 'https://www.occ.com.mx/empleos/de-Data-Scientist/?page=3&jobid=19297106', 'https://www.occ.com.mx/empleos/de-Data-Scientist/?page=3&jobid=19425143', 'https://www.occ.com.mx/empleos/de-Data-Scientist/?page=3&jobid=19269679', 'https://www.occ.com.mx/empleos/de-Data-Scientist/?page=3&jobid=19393528', 'https://www.occ.com.mx/empleos/de-Data-Scientist/?page=3&jobid=19515813', 'https://www.occ.com.mx/empleos/de-Data-Scientist/?page=3&jobid=19318467', 'https://www.occ.com.mx/empleos/de-Data-Scientist/?page=3&jobid=19325872', 'https://www.occ.com.mx/empleos/de-Data-Scientist/?page=3&jobid=19500217', 'https://www.occ.com.mx/empleos/de-Data-Scientist/?page=3&jobid=19553005', 'https://www.occ.com.mx/empleos/de-Data-Scientist/?page=3&jobid=19503248', 'https://www.occ.com.mx/empleos/de-Data-Scientist/?page=3&jobid=19482366', 'https://www.occ.com.mx/empleos/de-Data-Scientist/?page=3&jobid=19310904', 'https://www.occ.com.mx/empleos/de-Data-Scientist/?page=3&jobid=19503375', 'https://www.occ.com.mx/empleos/de-Data-Scientist/?page=3&jobid=19371437', 'https://www.occ.com.mx/empleos/de-Data-Scientist/?page=3&jobid=19391683', 'https://www.occ.com.mx/empleos/de-Data-Scientist/?page=3&jobid=19578054', 'https://www.occ.com.mx/empleos/de-Data-Scientist/?page=3&jobid=19617669', 'https://www.occ.com.mx/empleos/de-Data-Scientist/?page=3&jobid=19371364', 'https://www.occ.com.mx/empleos/de-Data-Scientist/?page=3&jobid=19591460', 'https://www.occ.com.mx/empleos/de-Data-Scientist/?page=3&jobid=19319189', 'https://www.occ.com.mx/empleos/de-Data-Scientist/?page=4&jobid=19357795', 'https://www.occ.com.mx/empleos/de-Data-Scientist/?page=4&jobid=19394081', 'https://www.occ.com.mx/empleos/de-Data-Scientist/?page=4&jobid=19565801', 'https://www.occ.com.mx/empleos/de-Data-Scientist/?page=4&jobid=19481827', 'https://www.occ.com.mx/empleos/de-Data-Scientist/?page=4&jobid=19554419', 'https://www.occ.com.mx/empleos/de-Data-Scientist/?page=4&jobid=19248188', 'https://www.occ.com.mx/empleos/de-Data-Scientist/?page=4&jobid=19410133', 'https://www.occ.com.mx/empleos/de-Data-Scientist/?page=4&jobid=19249108', 'https://www.occ.com.mx/empleos/de-Data-Scientist/?page=4&jobid=19250052', 'https://www.occ.com.mx/empleos/de-Data-Scientist/?page=4&jobid=19483729', 'https://www.occ.com.mx/empleos/de-Data-Scientist/?page=4&jobid=19488771', 'https://www.occ.com.mx/empleos/de-Data-Scientist/?page=4&jobid=19581844', 'https://www.occ.com.mx/empleos/de-Data-Scientist/?page=4&jobid=19553728', 'https://www.occ.com.mx/empleos/de-Data-Scientist/?page=4&jobid=19425831', 'https://www.occ.com.mx/empleos/de-Data-Scientist/?page=4&jobid=19339906', 'https://www.occ.com.mx/empleos/de-Data-Scientist/?page=4&jobid=19219622', 'https://www.occ.com.mx/empleos/de-Data-Scientist/?page=4&jobid=19474298', 'https://www.occ.com.mx/empleos/de-Data-Scientist/?page=4&jobid=19297466', 'https://www.occ.com.mx/empleos/de-Data-Scientist/?page=4&jobid=19590573', 'https://www.occ.com.mx/empleos/de-Data-Scientist/?page=4&jobid=19404128', 'https://www.occ.com.mx/empleos/de-Data-Scientist/?page=5&jobid=19262585', 'https://www.occ.com.mx/empleos/de-Data-Scientist/?page=5&jobid=19220551', 'https://www.occ.com.mx/empleos/de-Data-Scientist/?page=5&jobid=19488482', 'https://www.occ.com.mx/empleos/de-Data-Scientist/?page=5&jobid=19590741', 'https://www.occ.com.mx/empleos/de-Data-Scientist/?page=5&jobid=19504834', 'https://www.occ.com.mx/empleos/de-Data-Scientist/?page=5&jobid=19530967', 'https://www.occ.com.mx/empleos/de-Data-Scientist/?page=5&jobid=19410067', 'https://www.occ.com.mx/empleos/de-Data-Scientist/?page=5&jobid=19474088', 'https://www.occ.com.mx/empleos/de-Data-Scientist/?page=5&jobid=19363187', 'https://www.occ.com.mx/empleos/de-Data-Scientist/?page=5&jobid=19598182', 'https://www.occ.com.mx/empleos/de-Data-Scientist/?page=5&jobid=19641713', 'https://www.occ.com.mx/empleos/de-Data-Scientist/?page=5&jobid=19392737', 'https://www.occ.com.mx/empleos/de-Data-Scientist/?page=5&jobid=19648110', 'https://www.occ.com.mx/empleos/de-Data-Scientist/?page=5&jobid=19269168', 'https://www.occ.com.mx/empleos/de-Data-Scientist/?page=5&jobid=19363622', 'https://www.occ.com.mx/empleos/de-Data-Scientist/?page=5&jobid=19484223', 'https://www.occ.com.mx/empleos/de-Data-Scientist/?page=5&jobid=19604873', 'https://www.occ.com.mx/empleos/de-Data-Scientist/?page=5&jobid=19571269', 'https://www.occ.com.mx/empleos/de-Data-Scientist/?page=5&jobid=19545697', 'https://www.occ.com.mx/empleos/de-Data-Scientist/?page=5&jobid=19342167', 'https://www.occ.com.mx/empleos/de-Data-Scientist/?page=6&jobid=19249269', 'https://www.occ.com.mx/empleos/de-Data-Scientist/?page=6&jobid=19581725', 'https://www.occ.com.mx/empleos/de-Data-Scientist/?page=6&jobid=19581723', 'https://www.occ.com.mx/empleos/de-Data-Scientist/?page=6&jobid=19369597', 'https://www.occ.com.mx/empleos/de-Data-Scientist/?page=6&jobid=19505366', 'https://www.occ.com.mx/empleos/de-Data-Scientist/?page=6&jobid=19554602', 'https://www.occ.com.mx/empleos/de-Data-Scientist/?page=6&jobid=19554538', 'https://www.occ.com.mx/empleos/de-Data-Scientist/?page=6&jobid=19280507', 'https://www.occ.com.mx/empleos/de-Data-Scientist/?page=6&jobid=19365042', 'https://www.occ.com.mx/empleos/de-Data-Scientist/?page=6&jobid=19393186', 'https://www.occ.com.mx/empleos/de-Data-Scientist/?page=6&jobid=19555222', 'https://www.occ.com.mx/empleos/de-Data-Scientist/?page=6&jobid=19597495', 'https://www.occ.com.mx/empleos/de-Data-Scientist/?page=6&jobid=19279875', 'https://www.occ.com.mx/empleos/de-Data-Scientist/?page=6&jobid=19326540', 'https://www.occ.com.mx/empleos/de-Data-Scientist/?page=6&jobid=19566022', 'https://www.occ.com.mx/empleos/de-Data-Scientist/?page=6&jobid=19420608', 'https://www.occ.com.mx/empleos/de-Data-Scientist/?page=6&jobid=19475045', 'https://www.occ.com.mx/empleos/de-Data-Scientist/?page=6&jobid=19591187', 'https://www.occ.com.mx/empleos/de-Data-Scientist/?page=6&jobid=19597549', 'https://www.occ.com.mx/empleos/de-Data-Scientist/?page=6&jobid=19595271']\n",
      "['19591861', '19595238', '19597206', '19302946', '19670239', '19668136', '19669144', '19684290', '19679598', '19683907', '19679637', '19679243', '19670361', '19668376', '19684411', '19683982', '19670742', '19683921', '19678898', '19668199']\n",
      "['https://www.occ.com.mx/empleos/de-Data-Scientist/?jobid=19617741', 'https://www.occ.com.mx/empleos/de-Data-Scientist/?jobid=19617633', 'https://www.occ.com.mx/empleos/de-Data-Scientist/?jobid=19618287', 'https://www.occ.com.mx/empleos/de-Data-Scientist/?jobid=19690162', 'https://www.occ.com.mx/empleos/de-Data-Scientist/?jobid=19691789', 'https://www.occ.com.mx/empleos/de-Data-Scientist/?jobid=19655022', 'https://www.occ.com.mx/empleos/de-Data-Scientist/?jobid=19652643', 'https://www.occ.com.mx/empleos/de-Data-Scientist/?jobid=19689552', 'https://www.occ.com.mx/empleos/de-Data-Scientist/?jobid=19635486', 'https://www.occ.com.mx/empleos/de-Data-Scientist/?jobid=19689591', 'https://www.occ.com.mx/empleos/de-Data-Scientist/?jobid=19673589', 'https://www.occ.com.mx/empleos/de-Data-Scientist/?jobid=19697119', 'https://www.occ.com.mx/empleos/de-Data-Scientist/?jobid=19646554', 'https://www.occ.com.mx/empleos/de-Data-Scientist/?jobid=19419066', 'https://www.occ.com.mx/empleos/de-Data-Scientist/?jobid=19358421', 'https://www.occ.com.mx/empleos/de-Data-Scientist/?jobid=19358310', 'https://www.occ.com.mx/empleos/de-Data-Scientist/?jobid=19598951', 'https://www.occ.com.mx/empleos/de-Data-Scientist/?jobid=19641029', 'https://www.occ.com.mx/empleos/de-Data-Scientist/?jobid=19504152', 'https://www.occ.com.mx/empleos/de-Data-Scientist/?page=2&jobid=19311171', 'https://www.occ.com.mx/empleos/de-Data-Scientist/?page=2&jobid=19573019', 'https://www.occ.com.mx/empleos/de-Data-Scientist/?page=2&jobid=19327389', 'https://www.occ.com.mx/empleos/de-Data-Scientist/?page=2&jobid=19394283', 'https://www.occ.com.mx/empleos/de-Data-Scientist/?page=2&jobid=19603652', 'https://www.occ.com.mx/empleos/de-Data-Scientist/?page=2&jobid=19499535', 'https://www.occ.com.mx/empleos/de-Data-Scientist/?page=2&jobid=19409270', 'https://www.occ.com.mx/empleos/de-Data-Scientist/?page=2&jobid=19487655', 'https://www.occ.com.mx/empleos/de-Data-Scientist/?page=2&jobid=19404607', 'https://www.occ.com.mx/empleos/de-Data-Scientist/?page=2&jobid=19565587', 'https://www.occ.com.mx/empleos/de-Data-Scientist/?page=2&jobid=19636827', 'https://www.occ.com.mx/empleos/de-Data-Scientist/?page=2&jobid=19407720', 'https://www.occ.com.mx/empleos/de-Data-Scientist/?page=2&jobid=19358716', 'https://www.occ.com.mx/empleos/de-Data-Scientist/?page=2&jobid=19327230', 'https://www.occ.com.mx/empleos/de-Data-Scientist/?page=2&jobid=19426136', 'https://www.occ.com.mx/empleos/de-Data-Scientist/?page=2&jobid=19392495', 'https://www.occ.com.mx/empleos/de-Data-Scientist/?page=2&jobid=19591230', 'https://www.occ.com.mx/empleos/de-Data-Scientist/?page=2&jobid=19475905', 'https://www.occ.com.mx/empleos/de-Data-Scientist/?page=2&jobid=19303893', 'https://www.occ.com.mx/empleos/de-Data-Scientist/?page=2&jobid=19554573', 'https://www.occ.com.mx/empleos/de-Data-Scientist/?page=3&jobid=19297106', 'https://www.occ.com.mx/empleos/de-Data-Scientist/?page=3&jobid=19425143', 'https://www.occ.com.mx/empleos/de-Data-Scientist/?page=3&jobid=19269679', 'https://www.occ.com.mx/empleos/de-Data-Scientist/?page=3&jobid=19393528', 'https://www.occ.com.mx/empleos/de-Data-Scientist/?page=3&jobid=19515813', 'https://www.occ.com.mx/empleos/de-Data-Scientist/?page=3&jobid=19318467', 'https://www.occ.com.mx/empleos/de-Data-Scientist/?page=3&jobid=19325872', 'https://www.occ.com.mx/empleos/de-Data-Scientist/?page=3&jobid=19500217', 'https://www.occ.com.mx/empleos/de-Data-Scientist/?page=3&jobid=19553005', 'https://www.occ.com.mx/empleos/de-Data-Scientist/?page=3&jobid=19503248', 'https://www.occ.com.mx/empleos/de-Data-Scientist/?page=3&jobid=19482366', 'https://www.occ.com.mx/empleos/de-Data-Scientist/?page=3&jobid=19310904', 'https://www.occ.com.mx/empleos/de-Data-Scientist/?page=3&jobid=19503375', 'https://www.occ.com.mx/empleos/de-Data-Scientist/?page=3&jobid=19371437', 'https://www.occ.com.mx/empleos/de-Data-Scientist/?page=3&jobid=19391683', 'https://www.occ.com.mx/empleos/de-Data-Scientist/?page=3&jobid=19578054', 'https://www.occ.com.mx/empleos/de-Data-Scientist/?page=3&jobid=19617669', 'https://www.occ.com.mx/empleos/de-Data-Scientist/?page=3&jobid=19371364', 'https://www.occ.com.mx/empleos/de-Data-Scientist/?page=3&jobid=19591460', 'https://www.occ.com.mx/empleos/de-Data-Scientist/?page=3&jobid=19319189', 'https://www.occ.com.mx/empleos/de-Data-Scientist/?page=4&jobid=19357795', 'https://www.occ.com.mx/empleos/de-Data-Scientist/?page=4&jobid=19394081', 'https://www.occ.com.mx/empleos/de-Data-Scientist/?page=4&jobid=19565801', 'https://www.occ.com.mx/empleos/de-Data-Scientist/?page=4&jobid=19481827', 'https://www.occ.com.mx/empleos/de-Data-Scientist/?page=4&jobid=19554419', 'https://www.occ.com.mx/empleos/de-Data-Scientist/?page=4&jobid=19248188', 'https://www.occ.com.mx/empleos/de-Data-Scientist/?page=4&jobid=19410133', 'https://www.occ.com.mx/empleos/de-Data-Scientist/?page=4&jobid=19249108', 'https://www.occ.com.mx/empleos/de-Data-Scientist/?page=4&jobid=19250052', 'https://www.occ.com.mx/empleos/de-Data-Scientist/?page=4&jobid=19483729', 'https://www.occ.com.mx/empleos/de-Data-Scientist/?page=4&jobid=19488771', 'https://www.occ.com.mx/empleos/de-Data-Scientist/?page=4&jobid=19581844', 'https://www.occ.com.mx/empleos/de-Data-Scientist/?page=4&jobid=19553728', 'https://www.occ.com.mx/empleos/de-Data-Scientist/?page=4&jobid=19425831', 'https://www.occ.com.mx/empleos/de-Data-Scientist/?page=4&jobid=19339906', 'https://www.occ.com.mx/empleos/de-Data-Scientist/?page=4&jobid=19219622', 'https://www.occ.com.mx/empleos/de-Data-Scientist/?page=4&jobid=19474298', 'https://www.occ.com.mx/empleos/de-Data-Scientist/?page=4&jobid=19297466', 'https://www.occ.com.mx/empleos/de-Data-Scientist/?page=4&jobid=19590573', 'https://www.occ.com.mx/empleos/de-Data-Scientist/?page=4&jobid=19404128', 'https://www.occ.com.mx/empleos/de-Data-Scientist/?page=5&jobid=19262585', 'https://www.occ.com.mx/empleos/de-Data-Scientist/?page=5&jobid=19220551', 'https://www.occ.com.mx/empleos/de-Data-Scientist/?page=5&jobid=19488482', 'https://www.occ.com.mx/empleos/de-Data-Scientist/?page=5&jobid=19590741', 'https://www.occ.com.mx/empleos/de-Data-Scientist/?page=5&jobid=19504834', 'https://www.occ.com.mx/empleos/de-Data-Scientist/?page=5&jobid=19530967', 'https://www.occ.com.mx/empleos/de-Data-Scientist/?page=5&jobid=19410067', 'https://www.occ.com.mx/empleos/de-Data-Scientist/?page=5&jobid=19474088', 'https://www.occ.com.mx/empleos/de-Data-Scientist/?page=5&jobid=19363187', 'https://www.occ.com.mx/empleos/de-Data-Scientist/?page=5&jobid=19598182', 'https://www.occ.com.mx/empleos/de-Data-Scientist/?page=5&jobid=19641713', 'https://www.occ.com.mx/empleos/de-Data-Scientist/?page=5&jobid=19392737', 'https://www.occ.com.mx/empleos/de-Data-Scientist/?page=5&jobid=19648110', 'https://www.occ.com.mx/empleos/de-Data-Scientist/?page=5&jobid=19269168', 'https://www.occ.com.mx/empleos/de-Data-Scientist/?page=5&jobid=19363622', 'https://www.occ.com.mx/empleos/de-Data-Scientist/?page=5&jobid=19484223', 'https://www.occ.com.mx/empleos/de-Data-Scientist/?page=5&jobid=19604873', 'https://www.occ.com.mx/empleos/de-Data-Scientist/?page=5&jobid=19571269', 'https://www.occ.com.mx/empleos/de-Data-Scientist/?page=5&jobid=19545697', 'https://www.occ.com.mx/empleos/de-Data-Scientist/?page=5&jobid=19342167', 'https://www.occ.com.mx/empleos/de-Data-Scientist/?page=6&jobid=19249269', 'https://www.occ.com.mx/empleos/de-Data-Scientist/?page=6&jobid=19581725', 'https://www.occ.com.mx/empleos/de-Data-Scientist/?page=6&jobid=19581723', 'https://www.occ.com.mx/empleos/de-Data-Scientist/?page=6&jobid=19369597', 'https://www.occ.com.mx/empleos/de-Data-Scientist/?page=6&jobid=19505366', 'https://www.occ.com.mx/empleos/de-Data-Scientist/?page=6&jobid=19554602', 'https://www.occ.com.mx/empleos/de-Data-Scientist/?page=6&jobid=19554538', 'https://www.occ.com.mx/empleos/de-Data-Scientist/?page=6&jobid=19280507', 'https://www.occ.com.mx/empleos/de-Data-Scientist/?page=6&jobid=19365042', 'https://www.occ.com.mx/empleos/de-Data-Scientist/?page=6&jobid=19393186', 'https://www.occ.com.mx/empleos/de-Data-Scientist/?page=6&jobid=19555222', 'https://www.occ.com.mx/empleos/de-Data-Scientist/?page=6&jobid=19597495', 'https://www.occ.com.mx/empleos/de-Data-Scientist/?page=6&jobid=19279875', 'https://www.occ.com.mx/empleos/de-Data-Scientist/?page=6&jobid=19326540', 'https://www.occ.com.mx/empleos/de-Data-Scientist/?page=6&jobid=19566022', 'https://www.occ.com.mx/empleos/de-Data-Scientist/?page=6&jobid=19420608', 'https://www.occ.com.mx/empleos/de-Data-Scientist/?page=6&jobid=19475045', 'https://www.occ.com.mx/empleos/de-Data-Scientist/?page=6&jobid=19591187', 'https://www.occ.com.mx/empleos/de-Data-Scientist/?page=6&jobid=19597549', 'https://www.occ.com.mx/empleos/de-Data-Scientist/?page=6&jobid=19595271', 'https://www.occ.com.mx/empleos/de-Data-Scientist/?page=7&jobid=19591861', 'https://www.occ.com.mx/empleos/de-Data-Scientist/?page=7&jobid=19595238', 'https://www.occ.com.mx/empleos/de-Data-Scientist/?page=7&jobid=19597206', 'https://www.occ.com.mx/empleos/de-Data-Scientist/?page=7&jobid=19302946', 'https://www.occ.com.mx/empleos/de-Data-Scientist/?page=7&jobid=19670239', 'https://www.occ.com.mx/empleos/de-Data-Scientist/?page=7&jobid=19668136', 'https://www.occ.com.mx/empleos/de-Data-Scientist/?page=7&jobid=19669144', 'https://www.occ.com.mx/empleos/de-Data-Scientist/?page=7&jobid=19684290', 'https://www.occ.com.mx/empleos/de-Data-Scientist/?page=7&jobid=19679598', 'https://www.occ.com.mx/empleos/de-Data-Scientist/?page=7&jobid=19683907', 'https://www.occ.com.mx/empleos/de-Data-Scientist/?page=7&jobid=19679637', 'https://www.occ.com.mx/empleos/de-Data-Scientist/?page=7&jobid=19679243', 'https://www.occ.com.mx/empleos/de-Data-Scientist/?page=7&jobid=19670361', 'https://www.occ.com.mx/empleos/de-Data-Scientist/?page=7&jobid=19668376', 'https://www.occ.com.mx/empleos/de-Data-Scientist/?page=7&jobid=19684411', 'https://www.occ.com.mx/empleos/de-Data-Scientist/?page=7&jobid=19683982', 'https://www.occ.com.mx/empleos/de-Data-Scientist/?page=7&jobid=19670742', 'https://www.occ.com.mx/empleos/de-Data-Scientist/?page=7&jobid=19683921', 'https://www.occ.com.mx/empleos/de-Data-Scientist/?page=7&jobid=19678898', 'https://www.occ.com.mx/empleos/de-Data-Scientist/?page=7&jobid=19668199']\n",
      "['19684095', '19670602', '19669238', '19668377', '19679120', '19684509', '19684216', '19684087', '19684110', '19669734', '19684481', '19684295', '19670862', '19666686', '19684523', '19684054', '19670277', '19667481', '19668976', '19679059']\n",
      "['https://www.occ.com.mx/empleos/de-Data-Scientist/?jobid=19617741', 'https://www.occ.com.mx/empleos/de-Data-Scientist/?jobid=19617633', 'https://www.occ.com.mx/empleos/de-Data-Scientist/?jobid=19618287', 'https://www.occ.com.mx/empleos/de-Data-Scientist/?jobid=19690162', 'https://www.occ.com.mx/empleos/de-Data-Scientist/?jobid=19691789', 'https://www.occ.com.mx/empleos/de-Data-Scientist/?jobid=19655022', 'https://www.occ.com.mx/empleos/de-Data-Scientist/?jobid=19652643', 'https://www.occ.com.mx/empleos/de-Data-Scientist/?jobid=19689552', 'https://www.occ.com.mx/empleos/de-Data-Scientist/?jobid=19635486', 'https://www.occ.com.mx/empleos/de-Data-Scientist/?jobid=19689591', 'https://www.occ.com.mx/empleos/de-Data-Scientist/?jobid=19673589', 'https://www.occ.com.mx/empleos/de-Data-Scientist/?jobid=19697119', 'https://www.occ.com.mx/empleos/de-Data-Scientist/?jobid=19646554', 'https://www.occ.com.mx/empleos/de-Data-Scientist/?jobid=19419066', 'https://www.occ.com.mx/empleos/de-Data-Scientist/?jobid=19358421', 'https://www.occ.com.mx/empleos/de-Data-Scientist/?jobid=19358310', 'https://www.occ.com.mx/empleos/de-Data-Scientist/?jobid=19598951', 'https://www.occ.com.mx/empleos/de-Data-Scientist/?jobid=19641029', 'https://www.occ.com.mx/empleos/de-Data-Scientist/?jobid=19504152', 'https://www.occ.com.mx/empleos/de-Data-Scientist/?page=2&jobid=19311171', 'https://www.occ.com.mx/empleos/de-Data-Scientist/?page=2&jobid=19573019', 'https://www.occ.com.mx/empleos/de-Data-Scientist/?page=2&jobid=19327389', 'https://www.occ.com.mx/empleos/de-Data-Scientist/?page=2&jobid=19394283', 'https://www.occ.com.mx/empleos/de-Data-Scientist/?page=2&jobid=19603652', 'https://www.occ.com.mx/empleos/de-Data-Scientist/?page=2&jobid=19499535', 'https://www.occ.com.mx/empleos/de-Data-Scientist/?page=2&jobid=19409270', 'https://www.occ.com.mx/empleos/de-Data-Scientist/?page=2&jobid=19487655', 'https://www.occ.com.mx/empleos/de-Data-Scientist/?page=2&jobid=19404607', 'https://www.occ.com.mx/empleos/de-Data-Scientist/?page=2&jobid=19565587', 'https://www.occ.com.mx/empleos/de-Data-Scientist/?page=2&jobid=19636827', 'https://www.occ.com.mx/empleos/de-Data-Scientist/?page=2&jobid=19407720', 'https://www.occ.com.mx/empleos/de-Data-Scientist/?page=2&jobid=19358716', 'https://www.occ.com.mx/empleos/de-Data-Scientist/?page=2&jobid=19327230', 'https://www.occ.com.mx/empleos/de-Data-Scientist/?page=2&jobid=19426136', 'https://www.occ.com.mx/empleos/de-Data-Scientist/?page=2&jobid=19392495', 'https://www.occ.com.mx/empleos/de-Data-Scientist/?page=2&jobid=19591230', 'https://www.occ.com.mx/empleos/de-Data-Scientist/?page=2&jobid=19475905', 'https://www.occ.com.mx/empleos/de-Data-Scientist/?page=2&jobid=19303893', 'https://www.occ.com.mx/empleos/de-Data-Scientist/?page=2&jobid=19554573', 'https://www.occ.com.mx/empleos/de-Data-Scientist/?page=3&jobid=19297106', 'https://www.occ.com.mx/empleos/de-Data-Scientist/?page=3&jobid=19425143', 'https://www.occ.com.mx/empleos/de-Data-Scientist/?page=3&jobid=19269679', 'https://www.occ.com.mx/empleos/de-Data-Scientist/?page=3&jobid=19393528', 'https://www.occ.com.mx/empleos/de-Data-Scientist/?page=3&jobid=19515813', 'https://www.occ.com.mx/empleos/de-Data-Scientist/?page=3&jobid=19318467', 'https://www.occ.com.mx/empleos/de-Data-Scientist/?page=3&jobid=19325872', 'https://www.occ.com.mx/empleos/de-Data-Scientist/?page=3&jobid=19500217', 'https://www.occ.com.mx/empleos/de-Data-Scientist/?page=3&jobid=19553005', 'https://www.occ.com.mx/empleos/de-Data-Scientist/?page=3&jobid=19503248', 'https://www.occ.com.mx/empleos/de-Data-Scientist/?page=3&jobid=19482366', 'https://www.occ.com.mx/empleos/de-Data-Scientist/?page=3&jobid=19310904', 'https://www.occ.com.mx/empleos/de-Data-Scientist/?page=3&jobid=19503375', 'https://www.occ.com.mx/empleos/de-Data-Scientist/?page=3&jobid=19371437', 'https://www.occ.com.mx/empleos/de-Data-Scientist/?page=3&jobid=19391683', 'https://www.occ.com.mx/empleos/de-Data-Scientist/?page=3&jobid=19578054', 'https://www.occ.com.mx/empleos/de-Data-Scientist/?page=3&jobid=19617669', 'https://www.occ.com.mx/empleos/de-Data-Scientist/?page=3&jobid=19371364', 'https://www.occ.com.mx/empleos/de-Data-Scientist/?page=3&jobid=19591460', 'https://www.occ.com.mx/empleos/de-Data-Scientist/?page=3&jobid=19319189', 'https://www.occ.com.mx/empleos/de-Data-Scientist/?page=4&jobid=19357795', 'https://www.occ.com.mx/empleos/de-Data-Scientist/?page=4&jobid=19394081', 'https://www.occ.com.mx/empleos/de-Data-Scientist/?page=4&jobid=19565801', 'https://www.occ.com.mx/empleos/de-Data-Scientist/?page=4&jobid=19481827', 'https://www.occ.com.mx/empleos/de-Data-Scientist/?page=4&jobid=19554419', 'https://www.occ.com.mx/empleos/de-Data-Scientist/?page=4&jobid=19248188', 'https://www.occ.com.mx/empleos/de-Data-Scientist/?page=4&jobid=19410133', 'https://www.occ.com.mx/empleos/de-Data-Scientist/?page=4&jobid=19249108', 'https://www.occ.com.mx/empleos/de-Data-Scientist/?page=4&jobid=19250052', 'https://www.occ.com.mx/empleos/de-Data-Scientist/?page=4&jobid=19483729', 'https://www.occ.com.mx/empleos/de-Data-Scientist/?page=4&jobid=19488771', 'https://www.occ.com.mx/empleos/de-Data-Scientist/?page=4&jobid=19581844', 'https://www.occ.com.mx/empleos/de-Data-Scientist/?page=4&jobid=19553728', 'https://www.occ.com.mx/empleos/de-Data-Scientist/?page=4&jobid=19425831', 'https://www.occ.com.mx/empleos/de-Data-Scientist/?page=4&jobid=19339906', 'https://www.occ.com.mx/empleos/de-Data-Scientist/?page=4&jobid=19219622', 'https://www.occ.com.mx/empleos/de-Data-Scientist/?page=4&jobid=19474298', 'https://www.occ.com.mx/empleos/de-Data-Scientist/?page=4&jobid=19297466', 'https://www.occ.com.mx/empleos/de-Data-Scientist/?page=4&jobid=19590573', 'https://www.occ.com.mx/empleos/de-Data-Scientist/?page=4&jobid=19404128', 'https://www.occ.com.mx/empleos/de-Data-Scientist/?page=5&jobid=19262585', 'https://www.occ.com.mx/empleos/de-Data-Scientist/?page=5&jobid=19220551', 'https://www.occ.com.mx/empleos/de-Data-Scientist/?page=5&jobid=19488482', 'https://www.occ.com.mx/empleos/de-Data-Scientist/?page=5&jobid=19590741', 'https://www.occ.com.mx/empleos/de-Data-Scientist/?page=5&jobid=19504834', 'https://www.occ.com.mx/empleos/de-Data-Scientist/?page=5&jobid=19530967', 'https://www.occ.com.mx/empleos/de-Data-Scientist/?page=5&jobid=19410067', 'https://www.occ.com.mx/empleos/de-Data-Scientist/?page=5&jobid=19474088', 'https://www.occ.com.mx/empleos/de-Data-Scientist/?page=5&jobid=19363187', 'https://www.occ.com.mx/empleos/de-Data-Scientist/?page=5&jobid=19598182', 'https://www.occ.com.mx/empleos/de-Data-Scientist/?page=5&jobid=19641713', 'https://www.occ.com.mx/empleos/de-Data-Scientist/?page=5&jobid=19392737', 'https://www.occ.com.mx/empleos/de-Data-Scientist/?page=5&jobid=19648110', 'https://www.occ.com.mx/empleos/de-Data-Scientist/?page=5&jobid=19269168', 'https://www.occ.com.mx/empleos/de-Data-Scientist/?page=5&jobid=19363622', 'https://www.occ.com.mx/empleos/de-Data-Scientist/?page=5&jobid=19484223', 'https://www.occ.com.mx/empleos/de-Data-Scientist/?page=5&jobid=19604873', 'https://www.occ.com.mx/empleos/de-Data-Scientist/?page=5&jobid=19571269', 'https://www.occ.com.mx/empleos/de-Data-Scientist/?page=5&jobid=19545697', 'https://www.occ.com.mx/empleos/de-Data-Scientist/?page=5&jobid=19342167', 'https://www.occ.com.mx/empleos/de-Data-Scientist/?page=6&jobid=19249269', 'https://www.occ.com.mx/empleos/de-Data-Scientist/?page=6&jobid=19581725', 'https://www.occ.com.mx/empleos/de-Data-Scientist/?page=6&jobid=19581723', 'https://www.occ.com.mx/empleos/de-Data-Scientist/?page=6&jobid=19369597', 'https://www.occ.com.mx/empleos/de-Data-Scientist/?page=6&jobid=19505366', 'https://www.occ.com.mx/empleos/de-Data-Scientist/?page=6&jobid=19554602', 'https://www.occ.com.mx/empleos/de-Data-Scientist/?page=6&jobid=19554538', 'https://www.occ.com.mx/empleos/de-Data-Scientist/?page=6&jobid=19280507', 'https://www.occ.com.mx/empleos/de-Data-Scientist/?page=6&jobid=19365042', 'https://www.occ.com.mx/empleos/de-Data-Scientist/?page=6&jobid=19393186', 'https://www.occ.com.mx/empleos/de-Data-Scientist/?page=6&jobid=19555222', 'https://www.occ.com.mx/empleos/de-Data-Scientist/?page=6&jobid=19597495', 'https://www.occ.com.mx/empleos/de-Data-Scientist/?page=6&jobid=19279875', 'https://www.occ.com.mx/empleos/de-Data-Scientist/?page=6&jobid=19326540', 'https://www.occ.com.mx/empleos/de-Data-Scientist/?page=6&jobid=19566022', 'https://www.occ.com.mx/empleos/de-Data-Scientist/?page=6&jobid=19420608', 'https://www.occ.com.mx/empleos/de-Data-Scientist/?page=6&jobid=19475045', 'https://www.occ.com.mx/empleos/de-Data-Scientist/?page=6&jobid=19591187', 'https://www.occ.com.mx/empleos/de-Data-Scientist/?page=6&jobid=19597549', 'https://www.occ.com.mx/empleos/de-Data-Scientist/?page=6&jobid=19595271', 'https://www.occ.com.mx/empleos/de-Data-Scientist/?page=7&jobid=19591861', 'https://www.occ.com.mx/empleos/de-Data-Scientist/?page=7&jobid=19595238', 'https://www.occ.com.mx/empleos/de-Data-Scientist/?page=7&jobid=19597206', 'https://www.occ.com.mx/empleos/de-Data-Scientist/?page=7&jobid=19302946', 'https://www.occ.com.mx/empleos/de-Data-Scientist/?page=7&jobid=19670239', 'https://www.occ.com.mx/empleos/de-Data-Scientist/?page=7&jobid=19668136', 'https://www.occ.com.mx/empleos/de-Data-Scientist/?page=7&jobid=19669144', 'https://www.occ.com.mx/empleos/de-Data-Scientist/?page=7&jobid=19684290', 'https://www.occ.com.mx/empleos/de-Data-Scientist/?page=7&jobid=19679598', 'https://www.occ.com.mx/empleos/de-Data-Scientist/?page=7&jobid=19683907', 'https://www.occ.com.mx/empleos/de-Data-Scientist/?page=7&jobid=19679637', 'https://www.occ.com.mx/empleos/de-Data-Scientist/?page=7&jobid=19679243', 'https://www.occ.com.mx/empleos/de-Data-Scientist/?page=7&jobid=19670361', 'https://www.occ.com.mx/empleos/de-Data-Scientist/?page=7&jobid=19668376', 'https://www.occ.com.mx/empleos/de-Data-Scientist/?page=7&jobid=19684411', 'https://www.occ.com.mx/empleos/de-Data-Scientist/?page=7&jobid=19683982', 'https://www.occ.com.mx/empleos/de-Data-Scientist/?page=7&jobid=19670742', 'https://www.occ.com.mx/empleos/de-Data-Scientist/?page=7&jobid=19683921', 'https://www.occ.com.mx/empleos/de-Data-Scientist/?page=7&jobid=19678898', 'https://www.occ.com.mx/empleos/de-Data-Scientist/?page=7&jobid=19668199', 'https://www.occ.com.mx/empleos/de-Data-Scientist/?page=8&jobid=19684095', 'https://www.occ.com.mx/empleos/de-Data-Scientist/?page=8&jobid=19670602', 'https://www.occ.com.mx/empleos/de-Data-Scientist/?page=8&jobid=19669238', 'https://www.occ.com.mx/empleos/de-Data-Scientist/?page=8&jobid=19668377', 'https://www.occ.com.mx/empleos/de-Data-Scientist/?page=8&jobid=19679120', 'https://www.occ.com.mx/empleos/de-Data-Scientist/?page=8&jobid=19684509', 'https://www.occ.com.mx/empleos/de-Data-Scientist/?page=8&jobid=19684216', 'https://www.occ.com.mx/empleos/de-Data-Scientist/?page=8&jobid=19684087', 'https://www.occ.com.mx/empleos/de-Data-Scientist/?page=8&jobid=19684110', 'https://www.occ.com.mx/empleos/de-Data-Scientist/?page=8&jobid=19669734', 'https://www.occ.com.mx/empleos/de-Data-Scientist/?page=8&jobid=19684481', 'https://www.occ.com.mx/empleos/de-Data-Scientist/?page=8&jobid=19684295', 'https://www.occ.com.mx/empleos/de-Data-Scientist/?page=8&jobid=19670862', 'https://www.occ.com.mx/empleos/de-Data-Scientist/?page=8&jobid=19666686', 'https://www.occ.com.mx/empleos/de-Data-Scientist/?page=8&jobid=19684523', 'https://www.occ.com.mx/empleos/de-Data-Scientist/?page=8&jobid=19684054', 'https://www.occ.com.mx/empleos/de-Data-Scientist/?page=8&jobid=19670277', 'https://www.occ.com.mx/empleos/de-Data-Scientist/?page=8&jobid=19667481', 'https://www.occ.com.mx/empleos/de-Data-Scientist/?page=8&jobid=19668976', 'https://www.occ.com.mx/empleos/de-Data-Scientist/?page=8&jobid=19679059']\n",
      "['19678829', '19670496', '19669177', '19669641', '19667886', '19666693', '19692973', '19684116', '19684254', '19692561', '19667824', '19693277', '19639749', '19626321', '19534341', '19631301', '19622009', '19621097', '19621690', '19542078']\n",
      "['https://www.occ.com.mx/empleos/de-Data-Scientist/?jobid=19617741', 'https://www.occ.com.mx/empleos/de-Data-Scientist/?jobid=19617633', 'https://www.occ.com.mx/empleos/de-Data-Scientist/?jobid=19618287', 'https://www.occ.com.mx/empleos/de-Data-Scientist/?jobid=19690162', 'https://www.occ.com.mx/empleos/de-Data-Scientist/?jobid=19691789', 'https://www.occ.com.mx/empleos/de-Data-Scientist/?jobid=19655022', 'https://www.occ.com.mx/empleos/de-Data-Scientist/?jobid=19652643', 'https://www.occ.com.mx/empleos/de-Data-Scientist/?jobid=19689552', 'https://www.occ.com.mx/empleos/de-Data-Scientist/?jobid=19635486', 'https://www.occ.com.mx/empleos/de-Data-Scientist/?jobid=19689591', 'https://www.occ.com.mx/empleos/de-Data-Scientist/?jobid=19673589', 'https://www.occ.com.mx/empleos/de-Data-Scientist/?jobid=19697119', 'https://www.occ.com.mx/empleos/de-Data-Scientist/?jobid=19646554', 'https://www.occ.com.mx/empleos/de-Data-Scientist/?jobid=19419066', 'https://www.occ.com.mx/empleos/de-Data-Scientist/?jobid=19358421', 'https://www.occ.com.mx/empleos/de-Data-Scientist/?jobid=19358310', 'https://www.occ.com.mx/empleos/de-Data-Scientist/?jobid=19598951', 'https://www.occ.com.mx/empleos/de-Data-Scientist/?jobid=19641029', 'https://www.occ.com.mx/empleos/de-Data-Scientist/?jobid=19504152', 'https://www.occ.com.mx/empleos/de-Data-Scientist/?page=2&jobid=19311171', 'https://www.occ.com.mx/empleos/de-Data-Scientist/?page=2&jobid=19573019', 'https://www.occ.com.mx/empleos/de-Data-Scientist/?page=2&jobid=19327389', 'https://www.occ.com.mx/empleos/de-Data-Scientist/?page=2&jobid=19394283', 'https://www.occ.com.mx/empleos/de-Data-Scientist/?page=2&jobid=19603652', 'https://www.occ.com.mx/empleos/de-Data-Scientist/?page=2&jobid=19499535', 'https://www.occ.com.mx/empleos/de-Data-Scientist/?page=2&jobid=19409270', 'https://www.occ.com.mx/empleos/de-Data-Scientist/?page=2&jobid=19487655', 'https://www.occ.com.mx/empleos/de-Data-Scientist/?page=2&jobid=19404607', 'https://www.occ.com.mx/empleos/de-Data-Scientist/?page=2&jobid=19565587', 'https://www.occ.com.mx/empleos/de-Data-Scientist/?page=2&jobid=19636827', 'https://www.occ.com.mx/empleos/de-Data-Scientist/?page=2&jobid=19407720', 'https://www.occ.com.mx/empleos/de-Data-Scientist/?page=2&jobid=19358716', 'https://www.occ.com.mx/empleos/de-Data-Scientist/?page=2&jobid=19327230', 'https://www.occ.com.mx/empleos/de-Data-Scientist/?page=2&jobid=19426136', 'https://www.occ.com.mx/empleos/de-Data-Scientist/?page=2&jobid=19392495', 'https://www.occ.com.mx/empleos/de-Data-Scientist/?page=2&jobid=19591230', 'https://www.occ.com.mx/empleos/de-Data-Scientist/?page=2&jobid=19475905', 'https://www.occ.com.mx/empleos/de-Data-Scientist/?page=2&jobid=19303893', 'https://www.occ.com.mx/empleos/de-Data-Scientist/?page=2&jobid=19554573', 'https://www.occ.com.mx/empleos/de-Data-Scientist/?page=3&jobid=19297106', 'https://www.occ.com.mx/empleos/de-Data-Scientist/?page=3&jobid=19425143', 'https://www.occ.com.mx/empleos/de-Data-Scientist/?page=3&jobid=19269679', 'https://www.occ.com.mx/empleos/de-Data-Scientist/?page=3&jobid=19393528', 'https://www.occ.com.mx/empleos/de-Data-Scientist/?page=3&jobid=19515813', 'https://www.occ.com.mx/empleos/de-Data-Scientist/?page=3&jobid=19318467', 'https://www.occ.com.mx/empleos/de-Data-Scientist/?page=3&jobid=19325872', 'https://www.occ.com.mx/empleos/de-Data-Scientist/?page=3&jobid=19500217', 'https://www.occ.com.mx/empleos/de-Data-Scientist/?page=3&jobid=19553005', 'https://www.occ.com.mx/empleos/de-Data-Scientist/?page=3&jobid=19503248', 'https://www.occ.com.mx/empleos/de-Data-Scientist/?page=3&jobid=19482366', 'https://www.occ.com.mx/empleos/de-Data-Scientist/?page=3&jobid=19310904', 'https://www.occ.com.mx/empleos/de-Data-Scientist/?page=3&jobid=19503375', 'https://www.occ.com.mx/empleos/de-Data-Scientist/?page=3&jobid=19371437', 'https://www.occ.com.mx/empleos/de-Data-Scientist/?page=3&jobid=19391683', 'https://www.occ.com.mx/empleos/de-Data-Scientist/?page=3&jobid=19578054', 'https://www.occ.com.mx/empleos/de-Data-Scientist/?page=3&jobid=19617669', 'https://www.occ.com.mx/empleos/de-Data-Scientist/?page=3&jobid=19371364', 'https://www.occ.com.mx/empleos/de-Data-Scientist/?page=3&jobid=19591460', 'https://www.occ.com.mx/empleos/de-Data-Scientist/?page=3&jobid=19319189', 'https://www.occ.com.mx/empleos/de-Data-Scientist/?page=4&jobid=19357795', 'https://www.occ.com.mx/empleos/de-Data-Scientist/?page=4&jobid=19394081', 'https://www.occ.com.mx/empleos/de-Data-Scientist/?page=4&jobid=19565801', 'https://www.occ.com.mx/empleos/de-Data-Scientist/?page=4&jobid=19481827', 'https://www.occ.com.mx/empleos/de-Data-Scientist/?page=4&jobid=19554419', 'https://www.occ.com.mx/empleos/de-Data-Scientist/?page=4&jobid=19248188', 'https://www.occ.com.mx/empleos/de-Data-Scientist/?page=4&jobid=19410133', 'https://www.occ.com.mx/empleos/de-Data-Scientist/?page=4&jobid=19249108', 'https://www.occ.com.mx/empleos/de-Data-Scientist/?page=4&jobid=19250052', 'https://www.occ.com.mx/empleos/de-Data-Scientist/?page=4&jobid=19483729', 'https://www.occ.com.mx/empleos/de-Data-Scientist/?page=4&jobid=19488771', 'https://www.occ.com.mx/empleos/de-Data-Scientist/?page=4&jobid=19581844', 'https://www.occ.com.mx/empleos/de-Data-Scientist/?page=4&jobid=19553728', 'https://www.occ.com.mx/empleos/de-Data-Scientist/?page=4&jobid=19425831', 'https://www.occ.com.mx/empleos/de-Data-Scientist/?page=4&jobid=19339906', 'https://www.occ.com.mx/empleos/de-Data-Scientist/?page=4&jobid=19219622', 'https://www.occ.com.mx/empleos/de-Data-Scientist/?page=4&jobid=19474298', 'https://www.occ.com.mx/empleos/de-Data-Scientist/?page=4&jobid=19297466', 'https://www.occ.com.mx/empleos/de-Data-Scientist/?page=4&jobid=19590573', 'https://www.occ.com.mx/empleos/de-Data-Scientist/?page=4&jobid=19404128', 'https://www.occ.com.mx/empleos/de-Data-Scientist/?page=5&jobid=19262585', 'https://www.occ.com.mx/empleos/de-Data-Scientist/?page=5&jobid=19220551', 'https://www.occ.com.mx/empleos/de-Data-Scientist/?page=5&jobid=19488482', 'https://www.occ.com.mx/empleos/de-Data-Scientist/?page=5&jobid=19590741', 'https://www.occ.com.mx/empleos/de-Data-Scientist/?page=5&jobid=19504834', 'https://www.occ.com.mx/empleos/de-Data-Scientist/?page=5&jobid=19530967', 'https://www.occ.com.mx/empleos/de-Data-Scientist/?page=5&jobid=19410067', 'https://www.occ.com.mx/empleos/de-Data-Scientist/?page=5&jobid=19474088', 'https://www.occ.com.mx/empleos/de-Data-Scientist/?page=5&jobid=19363187', 'https://www.occ.com.mx/empleos/de-Data-Scientist/?page=5&jobid=19598182', 'https://www.occ.com.mx/empleos/de-Data-Scientist/?page=5&jobid=19641713', 'https://www.occ.com.mx/empleos/de-Data-Scientist/?page=5&jobid=19392737', 'https://www.occ.com.mx/empleos/de-Data-Scientist/?page=5&jobid=19648110', 'https://www.occ.com.mx/empleos/de-Data-Scientist/?page=5&jobid=19269168', 'https://www.occ.com.mx/empleos/de-Data-Scientist/?page=5&jobid=19363622', 'https://www.occ.com.mx/empleos/de-Data-Scientist/?page=5&jobid=19484223', 'https://www.occ.com.mx/empleos/de-Data-Scientist/?page=5&jobid=19604873', 'https://www.occ.com.mx/empleos/de-Data-Scientist/?page=5&jobid=19571269', 'https://www.occ.com.mx/empleos/de-Data-Scientist/?page=5&jobid=19545697', 'https://www.occ.com.mx/empleos/de-Data-Scientist/?page=5&jobid=19342167', 'https://www.occ.com.mx/empleos/de-Data-Scientist/?page=6&jobid=19249269', 'https://www.occ.com.mx/empleos/de-Data-Scientist/?page=6&jobid=19581725', 'https://www.occ.com.mx/empleos/de-Data-Scientist/?page=6&jobid=19581723', 'https://www.occ.com.mx/empleos/de-Data-Scientist/?page=6&jobid=19369597', 'https://www.occ.com.mx/empleos/de-Data-Scientist/?page=6&jobid=19505366', 'https://www.occ.com.mx/empleos/de-Data-Scientist/?page=6&jobid=19554602', 'https://www.occ.com.mx/empleos/de-Data-Scientist/?page=6&jobid=19554538', 'https://www.occ.com.mx/empleos/de-Data-Scientist/?page=6&jobid=19280507', 'https://www.occ.com.mx/empleos/de-Data-Scientist/?page=6&jobid=19365042', 'https://www.occ.com.mx/empleos/de-Data-Scientist/?page=6&jobid=19393186', 'https://www.occ.com.mx/empleos/de-Data-Scientist/?page=6&jobid=19555222', 'https://www.occ.com.mx/empleos/de-Data-Scientist/?page=6&jobid=19597495', 'https://www.occ.com.mx/empleos/de-Data-Scientist/?page=6&jobid=19279875', 'https://www.occ.com.mx/empleos/de-Data-Scientist/?page=6&jobid=19326540', 'https://www.occ.com.mx/empleos/de-Data-Scientist/?page=6&jobid=19566022', 'https://www.occ.com.mx/empleos/de-Data-Scientist/?page=6&jobid=19420608', 'https://www.occ.com.mx/empleos/de-Data-Scientist/?page=6&jobid=19475045', 'https://www.occ.com.mx/empleos/de-Data-Scientist/?page=6&jobid=19591187', 'https://www.occ.com.mx/empleos/de-Data-Scientist/?page=6&jobid=19597549', 'https://www.occ.com.mx/empleos/de-Data-Scientist/?page=6&jobid=19595271', 'https://www.occ.com.mx/empleos/de-Data-Scientist/?page=7&jobid=19591861', 'https://www.occ.com.mx/empleos/de-Data-Scientist/?page=7&jobid=19595238', 'https://www.occ.com.mx/empleos/de-Data-Scientist/?page=7&jobid=19597206', 'https://www.occ.com.mx/empleos/de-Data-Scientist/?page=7&jobid=19302946', 'https://www.occ.com.mx/empleos/de-Data-Scientist/?page=7&jobid=19670239', 'https://www.occ.com.mx/empleos/de-Data-Scientist/?page=7&jobid=19668136', 'https://www.occ.com.mx/empleos/de-Data-Scientist/?page=7&jobid=19669144', 'https://www.occ.com.mx/empleos/de-Data-Scientist/?page=7&jobid=19684290', 'https://www.occ.com.mx/empleos/de-Data-Scientist/?page=7&jobid=19679598', 'https://www.occ.com.mx/empleos/de-Data-Scientist/?page=7&jobid=19683907', 'https://www.occ.com.mx/empleos/de-Data-Scientist/?page=7&jobid=19679637', 'https://www.occ.com.mx/empleos/de-Data-Scientist/?page=7&jobid=19679243', 'https://www.occ.com.mx/empleos/de-Data-Scientist/?page=7&jobid=19670361', 'https://www.occ.com.mx/empleos/de-Data-Scientist/?page=7&jobid=19668376', 'https://www.occ.com.mx/empleos/de-Data-Scientist/?page=7&jobid=19684411', 'https://www.occ.com.mx/empleos/de-Data-Scientist/?page=7&jobid=19683982', 'https://www.occ.com.mx/empleos/de-Data-Scientist/?page=7&jobid=19670742', 'https://www.occ.com.mx/empleos/de-Data-Scientist/?page=7&jobid=19683921', 'https://www.occ.com.mx/empleos/de-Data-Scientist/?page=7&jobid=19678898', 'https://www.occ.com.mx/empleos/de-Data-Scientist/?page=7&jobid=19668199', 'https://www.occ.com.mx/empleos/de-Data-Scientist/?page=8&jobid=19684095', 'https://www.occ.com.mx/empleos/de-Data-Scientist/?page=8&jobid=19670602', 'https://www.occ.com.mx/empleos/de-Data-Scientist/?page=8&jobid=19669238', 'https://www.occ.com.mx/empleos/de-Data-Scientist/?page=8&jobid=19668377', 'https://www.occ.com.mx/empleos/de-Data-Scientist/?page=8&jobid=19679120', 'https://www.occ.com.mx/empleos/de-Data-Scientist/?page=8&jobid=19684509', 'https://www.occ.com.mx/empleos/de-Data-Scientist/?page=8&jobid=19684216', 'https://www.occ.com.mx/empleos/de-Data-Scientist/?page=8&jobid=19684087', 'https://www.occ.com.mx/empleos/de-Data-Scientist/?page=8&jobid=19684110', 'https://www.occ.com.mx/empleos/de-Data-Scientist/?page=8&jobid=19669734', 'https://www.occ.com.mx/empleos/de-Data-Scientist/?page=8&jobid=19684481', 'https://www.occ.com.mx/empleos/de-Data-Scientist/?page=8&jobid=19684295', 'https://www.occ.com.mx/empleos/de-Data-Scientist/?page=8&jobid=19670862', 'https://www.occ.com.mx/empleos/de-Data-Scientist/?page=8&jobid=19666686', 'https://www.occ.com.mx/empleos/de-Data-Scientist/?page=8&jobid=19684523', 'https://www.occ.com.mx/empleos/de-Data-Scientist/?page=8&jobid=19684054', 'https://www.occ.com.mx/empleos/de-Data-Scientist/?page=8&jobid=19670277', 'https://www.occ.com.mx/empleos/de-Data-Scientist/?page=8&jobid=19667481', 'https://www.occ.com.mx/empleos/de-Data-Scientist/?page=8&jobid=19668976', 'https://www.occ.com.mx/empleos/de-Data-Scientist/?page=8&jobid=19679059', 'https://www.occ.com.mx/empleos/de-Data-Scientist/?page=9&jobid=19678829', 'https://www.occ.com.mx/empleos/de-Data-Scientist/?page=9&jobid=19670496', 'https://www.occ.com.mx/empleos/de-Data-Scientist/?page=9&jobid=19669177', 'https://www.occ.com.mx/empleos/de-Data-Scientist/?page=9&jobid=19669641', 'https://www.occ.com.mx/empleos/de-Data-Scientist/?page=9&jobid=19667886', 'https://www.occ.com.mx/empleos/de-Data-Scientist/?page=9&jobid=19666693', 'https://www.occ.com.mx/empleos/de-Data-Scientist/?page=9&jobid=19692973', 'https://www.occ.com.mx/empleos/de-Data-Scientist/?page=9&jobid=19684116', 'https://www.occ.com.mx/empleos/de-Data-Scientist/?page=9&jobid=19684254', 'https://www.occ.com.mx/empleos/de-Data-Scientist/?page=9&jobid=19692561', 'https://www.occ.com.mx/empleos/de-Data-Scientist/?page=9&jobid=19667824', 'https://www.occ.com.mx/empleos/de-Data-Scientist/?page=9&jobid=19693277', 'https://www.occ.com.mx/empleos/de-Data-Scientist/?page=9&jobid=19639749', 'https://www.occ.com.mx/empleos/de-Data-Scientist/?page=9&jobid=19626321', 'https://www.occ.com.mx/empleos/de-Data-Scientist/?page=9&jobid=19534341', 'https://www.occ.com.mx/empleos/de-Data-Scientist/?page=9&jobid=19631301', 'https://www.occ.com.mx/empleos/de-Data-Scientist/?page=9&jobid=19622009', 'https://www.occ.com.mx/empleos/de-Data-Scientist/?page=9&jobid=19621097', 'https://www.occ.com.mx/empleos/de-Data-Scientist/?page=9&jobid=19621690', 'https://www.occ.com.mx/empleos/de-Data-Scientist/?page=9&jobid=19542078']\n",
      "['19622091', '19621524', '19621476', '19621399', '19621791', '19621854', '19538343', '19533632', '19650412', '19627115', '19621407', '19620814', '19620811', '19650575', '19627130', '19626755', '19626279', '19621979', '19621976', '19621499']\n",
      "['https://www.occ.com.mx/empleos/de-Data-Scientist/?jobid=19617741', 'https://www.occ.com.mx/empleos/de-Data-Scientist/?jobid=19617633', 'https://www.occ.com.mx/empleos/de-Data-Scientist/?jobid=19618287', 'https://www.occ.com.mx/empleos/de-Data-Scientist/?jobid=19690162', 'https://www.occ.com.mx/empleos/de-Data-Scientist/?jobid=19691789', 'https://www.occ.com.mx/empleos/de-Data-Scientist/?jobid=19655022', 'https://www.occ.com.mx/empleos/de-Data-Scientist/?jobid=19652643', 'https://www.occ.com.mx/empleos/de-Data-Scientist/?jobid=19689552', 'https://www.occ.com.mx/empleos/de-Data-Scientist/?jobid=19635486', 'https://www.occ.com.mx/empleos/de-Data-Scientist/?jobid=19689591', 'https://www.occ.com.mx/empleos/de-Data-Scientist/?jobid=19673589', 'https://www.occ.com.mx/empleos/de-Data-Scientist/?jobid=19697119', 'https://www.occ.com.mx/empleos/de-Data-Scientist/?jobid=19646554', 'https://www.occ.com.mx/empleos/de-Data-Scientist/?jobid=19419066', 'https://www.occ.com.mx/empleos/de-Data-Scientist/?jobid=19358421', 'https://www.occ.com.mx/empleos/de-Data-Scientist/?jobid=19358310', 'https://www.occ.com.mx/empleos/de-Data-Scientist/?jobid=19598951', 'https://www.occ.com.mx/empleos/de-Data-Scientist/?jobid=19641029', 'https://www.occ.com.mx/empleos/de-Data-Scientist/?jobid=19504152', 'https://www.occ.com.mx/empleos/de-Data-Scientist/?page=2&jobid=19311171', 'https://www.occ.com.mx/empleos/de-Data-Scientist/?page=2&jobid=19573019', 'https://www.occ.com.mx/empleos/de-Data-Scientist/?page=2&jobid=19327389', 'https://www.occ.com.mx/empleos/de-Data-Scientist/?page=2&jobid=19394283', 'https://www.occ.com.mx/empleos/de-Data-Scientist/?page=2&jobid=19603652', 'https://www.occ.com.mx/empleos/de-Data-Scientist/?page=2&jobid=19499535', 'https://www.occ.com.mx/empleos/de-Data-Scientist/?page=2&jobid=19409270', 'https://www.occ.com.mx/empleos/de-Data-Scientist/?page=2&jobid=19487655', 'https://www.occ.com.mx/empleos/de-Data-Scientist/?page=2&jobid=19404607', 'https://www.occ.com.mx/empleos/de-Data-Scientist/?page=2&jobid=19565587', 'https://www.occ.com.mx/empleos/de-Data-Scientist/?page=2&jobid=19636827', 'https://www.occ.com.mx/empleos/de-Data-Scientist/?page=2&jobid=19407720', 'https://www.occ.com.mx/empleos/de-Data-Scientist/?page=2&jobid=19358716', 'https://www.occ.com.mx/empleos/de-Data-Scientist/?page=2&jobid=19327230', 'https://www.occ.com.mx/empleos/de-Data-Scientist/?page=2&jobid=19426136', 'https://www.occ.com.mx/empleos/de-Data-Scientist/?page=2&jobid=19392495', 'https://www.occ.com.mx/empleos/de-Data-Scientist/?page=2&jobid=19591230', 'https://www.occ.com.mx/empleos/de-Data-Scientist/?page=2&jobid=19475905', 'https://www.occ.com.mx/empleos/de-Data-Scientist/?page=2&jobid=19303893', 'https://www.occ.com.mx/empleos/de-Data-Scientist/?page=2&jobid=19554573', 'https://www.occ.com.mx/empleos/de-Data-Scientist/?page=3&jobid=19297106', 'https://www.occ.com.mx/empleos/de-Data-Scientist/?page=3&jobid=19425143', 'https://www.occ.com.mx/empleos/de-Data-Scientist/?page=3&jobid=19269679', 'https://www.occ.com.mx/empleos/de-Data-Scientist/?page=3&jobid=19393528', 'https://www.occ.com.mx/empleos/de-Data-Scientist/?page=3&jobid=19515813', 'https://www.occ.com.mx/empleos/de-Data-Scientist/?page=3&jobid=19318467', 'https://www.occ.com.mx/empleos/de-Data-Scientist/?page=3&jobid=19325872', 'https://www.occ.com.mx/empleos/de-Data-Scientist/?page=3&jobid=19500217', 'https://www.occ.com.mx/empleos/de-Data-Scientist/?page=3&jobid=19553005', 'https://www.occ.com.mx/empleos/de-Data-Scientist/?page=3&jobid=19503248', 'https://www.occ.com.mx/empleos/de-Data-Scientist/?page=3&jobid=19482366', 'https://www.occ.com.mx/empleos/de-Data-Scientist/?page=3&jobid=19310904', 'https://www.occ.com.mx/empleos/de-Data-Scientist/?page=3&jobid=19503375', 'https://www.occ.com.mx/empleos/de-Data-Scientist/?page=3&jobid=19371437', 'https://www.occ.com.mx/empleos/de-Data-Scientist/?page=3&jobid=19391683', 'https://www.occ.com.mx/empleos/de-Data-Scientist/?page=3&jobid=19578054', 'https://www.occ.com.mx/empleos/de-Data-Scientist/?page=3&jobid=19617669', 'https://www.occ.com.mx/empleos/de-Data-Scientist/?page=3&jobid=19371364', 'https://www.occ.com.mx/empleos/de-Data-Scientist/?page=3&jobid=19591460', 'https://www.occ.com.mx/empleos/de-Data-Scientist/?page=3&jobid=19319189', 'https://www.occ.com.mx/empleos/de-Data-Scientist/?page=4&jobid=19357795', 'https://www.occ.com.mx/empleos/de-Data-Scientist/?page=4&jobid=19394081', 'https://www.occ.com.mx/empleos/de-Data-Scientist/?page=4&jobid=19565801', 'https://www.occ.com.mx/empleos/de-Data-Scientist/?page=4&jobid=19481827', 'https://www.occ.com.mx/empleos/de-Data-Scientist/?page=4&jobid=19554419', 'https://www.occ.com.mx/empleos/de-Data-Scientist/?page=4&jobid=19248188', 'https://www.occ.com.mx/empleos/de-Data-Scientist/?page=4&jobid=19410133', 'https://www.occ.com.mx/empleos/de-Data-Scientist/?page=4&jobid=19249108', 'https://www.occ.com.mx/empleos/de-Data-Scientist/?page=4&jobid=19250052', 'https://www.occ.com.mx/empleos/de-Data-Scientist/?page=4&jobid=19483729', 'https://www.occ.com.mx/empleos/de-Data-Scientist/?page=4&jobid=19488771', 'https://www.occ.com.mx/empleos/de-Data-Scientist/?page=4&jobid=19581844', 'https://www.occ.com.mx/empleos/de-Data-Scientist/?page=4&jobid=19553728', 'https://www.occ.com.mx/empleos/de-Data-Scientist/?page=4&jobid=19425831', 'https://www.occ.com.mx/empleos/de-Data-Scientist/?page=4&jobid=19339906', 'https://www.occ.com.mx/empleos/de-Data-Scientist/?page=4&jobid=19219622', 'https://www.occ.com.mx/empleos/de-Data-Scientist/?page=4&jobid=19474298', 'https://www.occ.com.mx/empleos/de-Data-Scientist/?page=4&jobid=19297466', 'https://www.occ.com.mx/empleos/de-Data-Scientist/?page=4&jobid=19590573', 'https://www.occ.com.mx/empleos/de-Data-Scientist/?page=4&jobid=19404128', 'https://www.occ.com.mx/empleos/de-Data-Scientist/?page=5&jobid=19262585', 'https://www.occ.com.mx/empleos/de-Data-Scientist/?page=5&jobid=19220551', 'https://www.occ.com.mx/empleos/de-Data-Scientist/?page=5&jobid=19488482', 'https://www.occ.com.mx/empleos/de-Data-Scientist/?page=5&jobid=19590741', 'https://www.occ.com.mx/empleos/de-Data-Scientist/?page=5&jobid=19504834', 'https://www.occ.com.mx/empleos/de-Data-Scientist/?page=5&jobid=19530967', 'https://www.occ.com.mx/empleos/de-Data-Scientist/?page=5&jobid=19410067', 'https://www.occ.com.mx/empleos/de-Data-Scientist/?page=5&jobid=19474088', 'https://www.occ.com.mx/empleos/de-Data-Scientist/?page=5&jobid=19363187', 'https://www.occ.com.mx/empleos/de-Data-Scientist/?page=5&jobid=19598182', 'https://www.occ.com.mx/empleos/de-Data-Scientist/?page=5&jobid=19641713', 'https://www.occ.com.mx/empleos/de-Data-Scientist/?page=5&jobid=19392737', 'https://www.occ.com.mx/empleos/de-Data-Scientist/?page=5&jobid=19648110', 'https://www.occ.com.mx/empleos/de-Data-Scientist/?page=5&jobid=19269168', 'https://www.occ.com.mx/empleos/de-Data-Scientist/?page=5&jobid=19363622', 'https://www.occ.com.mx/empleos/de-Data-Scientist/?page=5&jobid=19484223', 'https://www.occ.com.mx/empleos/de-Data-Scientist/?page=5&jobid=19604873', 'https://www.occ.com.mx/empleos/de-Data-Scientist/?page=5&jobid=19571269', 'https://www.occ.com.mx/empleos/de-Data-Scientist/?page=5&jobid=19545697', 'https://www.occ.com.mx/empleos/de-Data-Scientist/?page=5&jobid=19342167', 'https://www.occ.com.mx/empleos/de-Data-Scientist/?page=6&jobid=19249269', 'https://www.occ.com.mx/empleos/de-Data-Scientist/?page=6&jobid=19581725', 'https://www.occ.com.mx/empleos/de-Data-Scientist/?page=6&jobid=19581723', 'https://www.occ.com.mx/empleos/de-Data-Scientist/?page=6&jobid=19369597', 'https://www.occ.com.mx/empleos/de-Data-Scientist/?page=6&jobid=19505366', 'https://www.occ.com.mx/empleos/de-Data-Scientist/?page=6&jobid=19554602', 'https://www.occ.com.mx/empleos/de-Data-Scientist/?page=6&jobid=19554538', 'https://www.occ.com.mx/empleos/de-Data-Scientist/?page=6&jobid=19280507', 'https://www.occ.com.mx/empleos/de-Data-Scientist/?page=6&jobid=19365042', 'https://www.occ.com.mx/empleos/de-Data-Scientist/?page=6&jobid=19393186', 'https://www.occ.com.mx/empleos/de-Data-Scientist/?page=6&jobid=19555222', 'https://www.occ.com.mx/empleos/de-Data-Scientist/?page=6&jobid=19597495', 'https://www.occ.com.mx/empleos/de-Data-Scientist/?page=6&jobid=19279875', 'https://www.occ.com.mx/empleos/de-Data-Scientist/?page=6&jobid=19326540', 'https://www.occ.com.mx/empleos/de-Data-Scientist/?page=6&jobid=19566022', 'https://www.occ.com.mx/empleos/de-Data-Scientist/?page=6&jobid=19420608', 'https://www.occ.com.mx/empleos/de-Data-Scientist/?page=6&jobid=19475045', 'https://www.occ.com.mx/empleos/de-Data-Scientist/?page=6&jobid=19591187', 'https://www.occ.com.mx/empleos/de-Data-Scientist/?page=6&jobid=19597549', 'https://www.occ.com.mx/empleos/de-Data-Scientist/?page=6&jobid=19595271', 'https://www.occ.com.mx/empleos/de-Data-Scientist/?page=7&jobid=19591861', 'https://www.occ.com.mx/empleos/de-Data-Scientist/?page=7&jobid=19595238', 'https://www.occ.com.mx/empleos/de-Data-Scientist/?page=7&jobid=19597206', 'https://www.occ.com.mx/empleos/de-Data-Scientist/?page=7&jobid=19302946', 'https://www.occ.com.mx/empleos/de-Data-Scientist/?page=7&jobid=19670239', 'https://www.occ.com.mx/empleos/de-Data-Scientist/?page=7&jobid=19668136', 'https://www.occ.com.mx/empleos/de-Data-Scientist/?page=7&jobid=19669144', 'https://www.occ.com.mx/empleos/de-Data-Scientist/?page=7&jobid=19684290', 'https://www.occ.com.mx/empleos/de-Data-Scientist/?page=7&jobid=19679598', 'https://www.occ.com.mx/empleos/de-Data-Scientist/?page=7&jobid=19683907', 'https://www.occ.com.mx/empleos/de-Data-Scientist/?page=7&jobid=19679637', 'https://www.occ.com.mx/empleos/de-Data-Scientist/?page=7&jobid=19679243', 'https://www.occ.com.mx/empleos/de-Data-Scientist/?page=7&jobid=19670361', 'https://www.occ.com.mx/empleos/de-Data-Scientist/?page=7&jobid=19668376', 'https://www.occ.com.mx/empleos/de-Data-Scientist/?page=7&jobid=19684411', 'https://www.occ.com.mx/empleos/de-Data-Scientist/?page=7&jobid=19683982', 'https://www.occ.com.mx/empleos/de-Data-Scientist/?page=7&jobid=19670742', 'https://www.occ.com.mx/empleos/de-Data-Scientist/?page=7&jobid=19683921', 'https://www.occ.com.mx/empleos/de-Data-Scientist/?page=7&jobid=19678898', 'https://www.occ.com.mx/empleos/de-Data-Scientist/?page=7&jobid=19668199', 'https://www.occ.com.mx/empleos/de-Data-Scientist/?page=8&jobid=19684095', 'https://www.occ.com.mx/empleos/de-Data-Scientist/?page=8&jobid=19670602', 'https://www.occ.com.mx/empleos/de-Data-Scientist/?page=8&jobid=19669238', 'https://www.occ.com.mx/empleos/de-Data-Scientist/?page=8&jobid=19668377', 'https://www.occ.com.mx/empleos/de-Data-Scientist/?page=8&jobid=19679120', 'https://www.occ.com.mx/empleos/de-Data-Scientist/?page=8&jobid=19684509', 'https://www.occ.com.mx/empleos/de-Data-Scientist/?page=8&jobid=19684216', 'https://www.occ.com.mx/empleos/de-Data-Scientist/?page=8&jobid=19684087', 'https://www.occ.com.mx/empleos/de-Data-Scientist/?page=8&jobid=19684110', 'https://www.occ.com.mx/empleos/de-Data-Scientist/?page=8&jobid=19669734', 'https://www.occ.com.mx/empleos/de-Data-Scientist/?page=8&jobid=19684481', 'https://www.occ.com.mx/empleos/de-Data-Scientist/?page=8&jobid=19684295', 'https://www.occ.com.mx/empleos/de-Data-Scientist/?page=8&jobid=19670862', 'https://www.occ.com.mx/empleos/de-Data-Scientist/?page=8&jobid=19666686', 'https://www.occ.com.mx/empleos/de-Data-Scientist/?page=8&jobid=19684523', 'https://www.occ.com.mx/empleos/de-Data-Scientist/?page=8&jobid=19684054', 'https://www.occ.com.mx/empleos/de-Data-Scientist/?page=8&jobid=19670277', 'https://www.occ.com.mx/empleos/de-Data-Scientist/?page=8&jobid=19667481', 'https://www.occ.com.mx/empleos/de-Data-Scientist/?page=8&jobid=19668976', 'https://www.occ.com.mx/empleos/de-Data-Scientist/?page=8&jobid=19679059', 'https://www.occ.com.mx/empleos/de-Data-Scientist/?page=9&jobid=19678829', 'https://www.occ.com.mx/empleos/de-Data-Scientist/?page=9&jobid=19670496', 'https://www.occ.com.mx/empleos/de-Data-Scientist/?page=9&jobid=19669177', 'https://www.occ.com.mx/empleos/de-Data-Scientist/?page=9&jobid=19669641', 'https://www.occ.com.mx/empleos/de-Data-Scientist/?page=9&jobid=19667886', 'https://www.occ.com.mx/empleos/de-Data-Scientist/?page=9&jobid=19666693', 'https://www.occ.com.mx/empleos/de-Data-Scientist/?page=9&jobid=19692973', 'https://www.occ.com.mx/empleos/de-Data-Scientist/?page=9&jobid=19684116', 'https://www.occ.com.mx/empleos/de-Data-Scientist/?page=9&jobid=19684254', 'https://www.occ.com.mx/empleos/de-Data-Scientist/?page=9&jobid=19692561', 'https://www.occ.com.mx/empleos/de-Data-Scientist/?page=9&jobid=19667824', 'https://www.occ.com.mx/empleos/de-Data-Scientist/?page=9&jobid=19693277', 'https://www.occ.com.mx/empleos/de-Data-Scientist/?page=9&jobid=19639749', 'https://www.occ.com.mx/empleos/de-Data-Scientist/?page=9&jobid=19626321', 'https://www.occ.com.mx/empleos/de-Data-Scientist/?page=9&jobid=19534341', 'https://www.occ.com.mx/empleos/de-Data-Scientist/?page=9&jobid=19631301', 'https://www.occ.com.mx/empleos/de-Data-Scientist/?page=9&jobid=19622009', 'https://www.occ.com.mx/empleos/de-Data-Scientist/?page=9&jobid=19621097', 'https://www.occ.com.mx/empleos/de-Data-Scientist/?page=9&jobid=19621690', 'https://www.occ.com.mx/empleos/de-Data-Scientist/?page=9&jobid=19542078', 'https://www.occ.com.mx/empleos/de-Data-Scientist/?page=10&jobid=19622091', 'https://www.occ.com.mx/empleos/de-Data-Scientist/?page=10&jobid=19621524', 'https://www.occ.com.mx/empleos/de-Data-Scientist/?page=10&jobid=19621476', 'https://www.occ.com.mx/empleos/de-Data-Scientist/?page=10&jobid=19621399', 'https://www.occ.com.mx/empleos/de-Data-Scientist/?page=10&jobid=19621791', 'https://www.occ.com.mx/empleos/de-Data-Scientist/?page=10&jobid=19621854', 'https://www.occ.com.mx/empleos/de-Data-Scientist/?page=10&jobid=19538343', 'https://www.occ.com.mx/empleos/de-Data-Scientist/?page=10&jobid=19533632', 'https://www.occ.com.mx/empleos/de-Data-Scientist/?page=10&jobid=19650412', 'https://www.occ.com.mx/empleos/de-Data-Scientist/?page=10&jobid=19627115', 'https://www.occ.com.mx/empleos/de-Data-Scientist/?page=10&jobid=19621407', 'https://www.occ.com.mx/empleos/de-Data-Scientist/?page=10&jobid=19620814', 'https://www.occ.com.mx/empleos/de-Data-Scientist/?page=10&jobid=19620811', 'https://www.occ.com.mx/empleos/de-Data-Scientist/?page=10&jobid=19650575', 'https://www.occ.com.mx/empleos/de-Data-Scientist/?page=10&jobid=19627130', 'https://www.occ.com.mx/empleos/de-Data-Scientist/?page=10&jobid=19626755', 'https://www.occ.com.mx/empleos/de-Data-Scientist/?page=10&jobid=19626279', 'https://www.occ.com.mx/empleos/de-Data-Scientist/?page=10&jobid=19621979', 'https://www.occ.com.mx/empleos/de-Data-Scientist/?page=10&jobid=19621976', 'https://www.occ.com.mx/empleos/de-Data-Scientist/?page=10&jobid=19621499']\n"
     ]
    }
   ],
   "source": [
    "for i in range(2,11):\n",
    "    driver=webdriver.Firefox()\n",
    "    url=f'https://www.occ.com.mx/empleos/de-Data-Scientist/?page={i}'\n",
    "    driver.get(url)\n",
    "    soup=BeautifulSoup(driver.page_source,\"lxml\")\n",
    "    driver.quit()\n",
    "    job_ids=job_id(soup)\n",
    "    print(job_ids)\n",
    "    urls_trabajo=url_trabajo_pagina2(url,job_ids)\n",
    "    compilado=compilado+urls_trabajo\n",
    "    print(urls_trabajo)"
   ]
  },
  {
   "cell_type": "code",
   "execution_count": 15,
   "id": "e36a38e8-cbd2-42df-aef0-f9f4c172e294",
   "metadata": {},
   "outputs": [
    {
     "data": {
      "text/plain": [
       "199"
      ]
     },
     "execution_count": 15,
     "metadata": {},
     "output_type": "execute_result"
    }
   ],
   "source": [
    "len(compilado)"
   ]
  },
  {
   "cell_type": "code",
   "execution_count": 18,
   "id": "a146242a-07a5-4d0e-8476-e51d6bff02c3",
   "metadata": {},
   "outputs": [
    {
     "data": {
      "text/plain": [
       "0      https://www.occ.com.mx/empleos/de-Data-Scienti...\n",
       "1      https://www.occ.com.mx/empleos/de-Data-Scienti...\n",
       "2      https://www.occ.com.mx/empleos/de-Data-Scienti...\n",
       "3      https://www.occ.com.mx/empleos/de-Data-Scienti...\n",
       "4      https://www.occ.com.mx/empleos/de-Data-Scienti...\n",
       "                             ...                        \n",
       "194    https://www.occ.com.mx/empleos/de-Data-Scienti...\n",
       "195    https://www.occ.com.mx/empleos/de-Data-Scienti...\n",
       "196    https://www.occ.com.mx/empleos/de-Data-Scienti...\n",
       "197    https://www.occ.com.mx/empleos/de-Data-Scienti...\n",
       "198    https://www.occ.com.mx/empleos/de-Data-Scienti...\n",
       "Length: 199, dtype: object"
      ]
     },
     "execution_count": 18,
     "metadata": {},
     "output_type": "execute_result"
    }
   ],
   "source": [
    "import pandas as pd"
   ]
  },
  {
   "cell_type": "code",
   "execution_count": 19,
   "id": "690ac4ca-555b-4bc8-9df1-26e7737332c5",
   "metadata": {
    "scrolled": true
   },
   "outputs": [
    {
     "data": {
      "text/plain": [
       "\u001b[1;31mInit signature:\u001b[0m\n",
       "\u001b[0mpd\u001b[0m\u001b[1;33m.\u001b[0m\u001b[0mSeries\u001b[0m\u001b[1;33m(\u001b[0m\u001b[1;33m\n",
       "\u001b[0m    \u001b[0mdata\u001b[0m\u001b[1;33m=\u001b[0m\u001b[1;32mNone\u001b[0m\u001b[1;33m,\u001b[0m\u001b[1;33m\n",
       "\u001b[0m    \u001b[0mindex\u001b[0m\u001b[1;33m=\u001b[0m\u001b[1;32mNone\u001b[0m\u001b[1;33m,\u001b[0m\u001b[1;33m\n",
       "\u001b[0m    \u001b[0mdtype\u001b[0m\u001b[1;33m:\u001b[0m \u001b[1;34m'Dtype | None'\u001b[0m \u001b[1;33m=\u001b[0m \u001b[1;32mNone\u001b[0m\u001b[1;33m,\u001b[0m\u001b[1;33m\n",
       "\u001b[0m    \u001b[0mname\u001b[0m\u001b[1;33m=\u001b[0m\u001b[1;32mNone\u001b[0m\u001b[1;33m,\u001b[0m\u001b[1;33m\n",
       "\u001b[0m    \u001b[0mcopy\u001b[0m\u001b[1;33m:\u001b[0m \u001b[1;34m'bool | None'\u001b[0m \u001b[1;33m=\u001b[0m \u001b[1;32mNone\u001b[0m\u001b[1;33m,\u001b[0m\u001b[1;33m\n",
       "\u001b[0m    \u001b[0mfastpath\u001b[0m\u001b[1;33m:\u001b[0m \u001b[1;34m'bool | lib.NoDefault'\u001b[0m \u001b[1;33m=\u001b[0m \u001b[1;33m<\u001b[0m\u001b[0mno_default\u001b[0m\u001b[1;33m>\u001b[0m\u001b[1;33m,\u001b[0m\u001b[1;33m\n",
       "\u001b[0m\u001b[1;33m)\u001b[0m \u001b[1;33m->\u001b[0m \u001b[1;34m'None'\u001b[0m\u001b[1;33m\u001b[0m\u001b[1;33m\u001b[0m\u001b[0m\n",
       "\u001b[1;31mDocstring:\u001b[0m     \n",
       "One-dimensional ndarray with axis labels (including time series).\n",
       "\n",
       "Labels need not be unique but must be a hashable type. The object\n",
       "supports both integer- and label-based indexing and provides a host of\n",
       "methods for performing operations involving the index. Statistical\n",
       "methods from ndarray have been overridden to automatically exclude\n",
       "missing data (currently represented as NaN).\n",
       "\n",
       "Operations between Series (+, -, /, \\*, \\*\\*) align values based on their\n",
       "associated index values-- they need not be the same length. The result\n",
       "index will be the sorted union of the two indexes.\n",
       "\n",
       "Parameters\n",
       "----------\n",
       "data : array-like, Iterable, dict, or scalar value\n",
       "    Contains data stored in Series. If data is a dict, argument order is\n",
       "    maintained.\n",
       "index : array-like or Index (1d)\n",
       "    Values must be hashable and have the same length as `data`.\n",
       "    Non-unique index values are allowed. Will default to\n",
       "    RangeIndex (0, 1, 2, ..., n) if not provided. If data is dict-like\n",
       "    and index is None, then the keys in the data are used as the index. If the\n",
       "    index is not None, the resulting Series is reindexed with the index values.\n",
       "dtype : str, numpy.dtype, or ExtensionDtype, optional\n",
       "    Data type for the output Series. If not specified, this will be\n",
       "    inferred from `data`.\n",
       "    See the :ref:`user guide <basics.dtypes>` for more usages.\n",
       "name : Hashable, default None\n",
       "    The name to give to the Series.\n",
       "copy : bool, default False\n",
       "    Copy input data. Only affects Series or 1d ndarray input. See examples.\n",
       "\n",
       "Notes\n",
       "-----\n",
       "Please reference the :ref:`User Guide <basics.series>` for more information.\n",
       "\n",
       "Examples\n",
       "--------\n",
       "Constructing Series from a dictionary with an Index specified\n",
       "\n",
       ">>> d = {'a': 1, 'b': 2, 'c': 3}\n",
       ">>> ser = pd.Series(data=d, index=['a', 'b', 'c'])\n",
       ">>> ser\n",
       "a   1\n",
       "b   2\n",
       "c   3\n",
       "dtype: int64\n",
       "\n",
       "The keys of the dictionary match with the Index values, hence the Index\n",
       "values have no effect.\n",
       "\n",
       ">>> d = {'a': 1, 'b': 2, 'c': 3}\n",
       ">>> ser = pd.Series(data=d, index=['x', 'y', 'z'])\n",
       ">>> ser\n",
       "x   NaN\n",
       "y   NaN\n",
       "z   NaN\n",
       "dtype: float64\n",
       "\n",
       "Note that the Index is first build with the keys from the dictionary.\n",
       "After this the Series is reindexed with the given Index values, hence we\n",
       "get all NaN as a result.\n",
       "\n",
       "Constructing Series from a list with `copy=False`.\n",
       "\n",
       ">>> r = [1, 2]\n",
       ">>> ser = pd.Series(r, copy=False)\n",
       ">>> ser.iloc[0] = 999\n",
       ">>> r\n",
       "[1, 2]\n",
       ">>> ser\n",
       "0    999\n",
       "1      2\n",
       "dtype: int64\n",
       "\n",
       "Due to input data type the Series has a `copy` of\n",
       "the original data even though `copy=False`, so\n",
       "the data is unchanged.\n",
       "\n",
       "Constructing Series from a 1d ndarray with `copy=False`.\n",
       "\n",
       ">>> r = np.array([1, 2])\n",
       ">>> ser = pd.Series(r, copy=False)\n",
       ">>> ser.iloc[0] = 999\n",
       ">>> r\n",
       "array([999,   2])\n",
       ">>> ser\n",
       "0    999\n",
       "1      2\n",
       "dtype: int64\n",
       "\n",
       "Due to input data type the Series has a `view` on\n",
       "the original data, so\n",
       "the data is changed as well.\n",
       "\u001b[1;31mFile:\u001b[0m           c:\\users\\flavio.colmenares\\desktop\\entorno_bi\\pyproj\\entorno_bi\\lib\\site-packages\\pandas\\core\\series.py\n",
       "\u001b[1;31mType:\u001b[0m           type\n",
       "\u001b[1;31mSubclasses:\u001b[0m     SubclassedSeries"
      ]
     },
     "metadata": {},
     "output_type": "display_data"
    }
   ],
   "source": [
    "pd.Series?"
   ]
  },
  {
   "cell_type": "code",
   "execution_count": 21,
   "id": "8c07a57a-6c58-4df4-a26a-9389de144b38",
   "metadata": {},
   "outputs": [],
   "source": [
    "compilado2=pd.Series(compilado,name=\"urls\")"
   ]
  },
  {
   "cell_type": "code",
   "execution_count": 22,
   "id": "81d32bc3-9b3b-4f3f-826d-20e003769b0d",
   "metadata": {},
   "outputs": [],
   "source": [
    "compilado2.to_clipboard()"
   ]
  },
  {
   "cell_type": "code",
   "execution_count": null,
   "id": "9ed99519-7959-474c-89bd-9a922daf1db0",
   "metadata": {},
   "outputs": [],
   "source": []
  }
 ],
 "metadata": {
  "kernelspec": {
   "display_name": "Python 3 (ipykernel)",
   "language": "python",
   "name": "python3"
  },
  "language_info": {
   "codemirror_mode": {
    "name": "ipython",
    "version": 3
   },
   "file_extension": ".py",
   "mimetype": "text/x-python",
   "name": "python",
   "nbconvert_exporter": "python",
   "pygments_lexer": "ipython3",
   "version": "3.12.3"
  }
 },
 "nbformat": 4,
 "nbformat_minor": 5
}
