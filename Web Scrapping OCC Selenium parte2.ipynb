{
 "cells": [
  {
   "cell_type": "code",
   "execution_count": 1,
   "id": "936834fe-d129-4aa5-b537-6e2614908ec7",
   "metadata": {},
   "outputs": [],
   "source": [
    "from selenium import webdriver\n",
    "from selenium.webdriver.common.by import By\n",
    "from selenium.webdriver.common.keys import Keys\n",
    "\n",
    "from selenium.webdriver.support.ui import WebDriverWait\n",
    "from selenium.webdriver.support import expected_conditions as EC\n",
    "\n",
    "from bs4 import BeautifulSoup\n",
    "import time\n",
    "\n",
    "import pandas as pd\n",
    "import numpy as np"
   ]
  },
  {
   "cell_type": "code",
   "execution_count": 2,
   "id": "937395f7-779e-4b84-9eb5-8f01b4c89077",
   "metadata": {},
   "outputs": [],
   "source": [
    "def get_soup(url):\n",
    "    driver=webdriver.Firefox()\n",
    "    driver.get(url)\n",
    "    soup=BeautifulSoup(driver.page_source,\"lxml\")\n",
    "    driver.quit()\n",
    "    return soup\n",
    "\n",
    "def web_scrapping(soup):\n",
    "    try:\n",
    "        puesto=soup.find(\"div\",class_=\"flex justify-between items-center mt-2\").find(\"p\").text\n",
    "    except:\n",
    "        puesto=np.nan\n",
    "    \n",
    "    try:\n",
    "        sueldo=soup.find(\"div\",class_=\"flex flex-wrap gap-x-1 mt-1 items-center\").find(\"p\").text\n",
    "    except:\n",
    "        sueldo=np.nan\n",
    "        \n",
    "    try:\n",
    "        compañía=soup.find_all(\"div\",class_=\"mt-1\")[1].find(\"span\").text\n",
    "    except:\n",
    "        compañía=np.nan\n",
    "        \n",
    "    try:\n",
    "        descripción=soup.find_all(\"div\",class_=\"break-words mb-8\")\n",
    "    except:\n",
    "        descripción=np.nan\n",
    "        \n",
    "    return puesto,sueldo,compañía,descripción\n",
    "    "
   ]
  },
  {
   "cell_type": "code",
   "execution_count": 3,
   "id": "f5585b2e-52fa-4b3a-861d-cc5b594a46b5",
   "metadata": {},
   "outputs": [],
   "source": [
    "ruta=r\"C:\\Users\\flavio.colmenares\\Desktop\\BI\\Armados\\0.-Proyectos propios\\Scrapping OCC\\urls_OCC_para_Webscrappear.xlsx\""
   ]
  },
  {
   "cell_type": "code",
   "execution_count": 4,
   "id": "01d6fd2c-2f4c-44ff-a94b-0bb179ac2fb7",
   "metadata": {},
   "outputs": [
    {
     "data": {
      "text/html": [
       "<div>\n",
       "<style scoped>\n",
       "    .dataframe tbody tr th:only-of-type {\n",
       "        vertical-align: middle;\n",
       "    }\n",
       "\n",
       "    .dataframe tbody tr th {\n",
       "        vertical-align: top;\n",
       "    }\n",
       "\n",
       "    .dataframe thead th {\n",
       "        text-align: right;\n",
       "    }\n",
       "</style>\n",
       "<table border=\"1\" class=\"dataframe\">\n",
       "  <thead>\n",
       "    <tr style=\"text-align: right;\">\n",
       "      <th></th>\n",
       "      <th>indice</th>\n",
       "      <th>urls</th>\n",
       "    </tr>\n",
       "  </thead>\n",
       "  <tbody>\n",
       "    <tr>\n",
       "      <th>0</th>\n",
       "      <td>0</td>\n",
       "      <td>https://www.occ.com.mx/empleos/de-Data-Scienti...</td>\n",
       "    </tr>\n",
       "    <tr>\n",
       "      <th>1</th>\n",
       "      <td>1</td>\n",
       "      <td>https://www.occ.com.mx/empleos/de-Data-Scienti...</td>\n",
       "    </tr>\n",
       "    <tr>\n",
       "      <th>2</th>\n",
       "      <td>2</td>\n",
       "      <td>https://www.occ.com.mx/empleos/de-Data-Scienti...</td>\n",
       "    </tr>\n",
       "    <tr>\n",
       "      <th>3</th>\n",
       "      <td>3</td>\n",
       "      <td>https://www.occ.com.mx/empleos/de-Data-Scienti...</td>\n",
       "    </tr>\n",
       "    <tr>\n",
       "      <th>4</th>\n",
       "      <td>4</td>\n",
       "      <td>https://www.occ.com.mx/empleos/de-Data-Scienti...</td>\n",
       "    </tr>\n",
       "    <tr>\n",
       "      <th>...</th>\n",
       "      <td>...</td>\n",
       "      <td>...</td>\n",
       "    </tr>\n",
       "    <tr>\n",
       "      <th>194</th>\n",
       "      <td>194</td>\n",
       "      <td>https://www.occ.com.mx/empleos/de-Data-Scienti...</td>\n",
       "    </tr>\n",
       "    <tr>\n",
       "      <th>195</th>\n",
       "      <td>195</td>\n",
       "      <td>https://www.occ.com.mx/empleos/de-Data-Scienti...</td>\n",
       "    </tr>\n",
       "    <tr>\n",
       "      <th>196</th>\n",
       "      <td>196</td>\n",
       "      <td>https://www.occ.com.mx/empleos/de-Data-Scienti...</td>\n",
       "    </tr>\n",
       "    <tr>\n",
       "      <th>197</th>\n",
       "      <td>197</td>\n",
       "      <td>https://www.occ.com.mx/empleos/de-Data-Scienti...</td>\n",
       "    </tr>\n",
       "    <tr>\n",
       "      <th>198</th>\n",
       "      <td>198</td>\n",
       "      <td>https://www.occ.com.mx/empleos/de-Data-Scienti...</td>\n",
       "    </tr>\n",
       "  </tbody>\n",
       "</table>\n",
       "<p>199 rows × 2 columns</p>\n",
       "</div>"
      ],
      "text/plain": [
       "     indice                                               urls\n",
       "0         0  https://www.occ.com.mx/empleos/de-Data-Scienti...\n",
       "1         1  https://www.occ.com.mx/empleos/de-Data-Scienti...\n",
       "2         2  https://www.occ.com.mx/empleos/de-Data-Scienti...\n",
       "3         3  https://www.occ.com.mx/empleos/de-Data-Scienti...\n",
       "4         4  https://www.occ.com.mx/empleos/de-Data-Scienti...\n",
       "..      ...                                                ...\n",
       "194     194  https://www.occ.com.mx/empleos/de-Data-Scienti...\n",
       "195     195  https://www.occ.com.mx/empleos/de-Data-Scienti...\n",
       "196     196  https://www.occ.com.mx/empleos/de-Data-Scienti...\n",
       "197     197  https://www.occ.com.mx/empleos/de-Data-Scienti...\n",
       "198     198  https://www.occ.com.mx/empleos/de-Data-Scienti...\n",
       "\n",
       "[199 rows x 2 columns]"
      ]
     },
     "execution_count": 4,
     "metadata": {},
     "output_type": "execute_result"
    }
   ],
   "source": [
    "urls=pd.read_excel(ruta)\n",
    "urls"
   ]
  },
  {
   "cell_type": "code",
   "execution_count": 5,
   "id": "e5f86de3-0bb0-40e0-866c-93bcd040b9f8",
   "metadata": {
    "scrolled": true
   },
   "outputs": [
    {
     "data": {
      "text/plain": [
       "['https://www.occ.com.mx/empleos/de-Data-Scientist/?page=6&jobid=19475045',\n",
       " 'https://www.occ.com.mx/empleos/de-Data-Scientist/?page=6&jobid=19591187',\n",
       " 'https://www.occ.com.mx/empleos/de-Data-Scientist/?page=6&jobid=19597549',\n",
       " 'https://www.occ.com.mx/empleos/de-Data-Scientist/?page=6&jobid=19595271',\n",
       " 'https://www.occ.com.mx/empleos/de-Data-Scientist/?page=7&jobid=19591861',\n",
       " 'https://www.occ.com.mx/empleos/de-Data-Scientist/?page=7&jobid=19595238',\n",
       " 'https://www.occ.com.mx/empleos/de-Data-Scientist/?page=7&jobid=19597206',\n",
       " 'https://www.occ.com.mx/empleos/de-Data-Scientist/?page=7&jobid=19302946',\n",
       " 'https://www.occ.com.mx/empleos/de-Data-Scientist/?page=7&jobid=19670239',\n",
       " 'https://www.occ.com.mx/empleos/de-Data-Scientist/?page=7&jobid=19668136',\n",
       " 'https://www.occ.com.mx/empleos/de-Data-Scientist/?page=7&jobid=19669144',\n",
       " 'https://www.occ.com.mx/empleos/de-Data-Scientist/?page=7&jobid=19684290',\n",
       " 'https://www.occ.com.mx/empleos/de-Data-Scientist/?page=7&jobid=19679598',\n",
       " 'https://www.occ.com.mx/empleos/de-Data-Scientist/?page=7&jobid=19683907',\n",
       " 'https://www.occ.com.mx/empleos/de-Data-Scientist/?page=7&jobid=19679637',\n",
       " 'https://www.occ.com.mx/empleos/de-Data-Scientist/?page=7&jobid=19679243',\n",
       " 'https://www.occ.com.mx/empleos/de-Data-Scientist/?page=7&jobid=19670361',\n",
       " 'https://www.occ.com.mx/empleos/de-Data-Scientist/?page=7&jobid=19668376',\n",
       " 'https://www.occ.com.mx/empleos/de-Data-Scientist/?page=7&jobid=19684411',\n",
       " 'https://www.occ.com.mx/empleos/de-Data-Scientist/?page=7&jobid=19683982',\n",
       " 'https://www.occ.com.mx/empleos/de-Data-Scientist/?page=7&jobid=19670742',\n",
       " 'https://www.occ.com.mx/empleos/de-Data-Scientist/?page=7&jobid=19683921',\n",
       " 'https://www.occ.com.mx/empleos/de-Data-Scientist/?page=7&jobid=19678898',\n",
       " 'https://www.occ.com.mx/empleos/de-Data-Scientist/?page=7&jobid=19668199',\n",
       " 'https://www.occ.com.mx/empleos/de-Data-Scientist/?page=8&jobid=19684095',\n",
       " 'https://www.occ.com.mx/empleos/de-Data-Scientist/?page=8&jobid=19670602',\n",
       " 'https://www.occ.com.mx/empleos/de-Data-Scientist/?page=8&jobid=19669238',\n",
       " 'https://www.occ.com.mx/empleos/de-Data-Scientist/?page=8&jobid=19668377',\n",
       " 'https://www.occ.com.mx/empleos/de-Data-Scientist/?page=8&jobid=19679120',\n",
       " 'https://www.occ.com.mx/empleos/de-Data-Scientist/?page=8&jobid=19684509',\n",
       " 'https://www.occ.com.mx/empleos/de-Data-Scientist/?page=8&jobid=19684216',\n",
       " 'https://www.occ.com.mx/empleos/de-Data-Scientist/?page=8&jobid=19684087',\n",
       " 'https://www.occ.com.mx/empleos/de-Data-Scientist/?page=8&jobid=19684110',\n",
       " 'https://www.occ.com.mx/empleos/de-Data-Scientist/?page=8&jobid=19669734',\n",
       " 'https://www.occ.com.mx/empleos/de-Data-Scientist/?page=8&jobid=19684481',\n",
       " 'https://www.occ.com.mx/empleos/de-Data-Scientist/?page=8&jobid=19684295',\n",
       " 'https://www.occ.com.mx/empleos/de-Data-Scientist/?page=8&jobid=19670862',\n",
       " 'https://www.occ.com.mx/empleos/de-Data-Scientist/?page=8&jobid=19666686',\n",
       " 'https://www.occ.com.mx/empleos/de-Data-Scientist/?page=8&jobid=19684523',\n",
       " 'https://www.occ.com.mx/empleos/de-Data-Scientist/?page=8&jobid=19684054',\n",
       " 'https://www.occ.com.mx/empleos/de-Data-Scientist/?page=8&jobid=19670277',\n",
       " 'https://www.occ.com.mx/empleos/de-Data-Scientist/?page=8&jobid=19667481',\n",
       " 'https://www.occ.com.mx/empleos/de-Data-Scientist/?page=8&jobid=19668976',\n",
       " 'https://www.occ.com.mx/empleos/de-Data-Scientist/?page=8&jobid=19679059',\n",
       " 'https://www.occ.com.mx/empleos/de-Data-Scientist/?page=9&jobid=19678829',\n",
       " 'https://www.occ.com.mx/empleos/de-Data-Scientist/?page=9&jobid=19670496',\n",
       " 'https://www.occ.com.mx/empleos/de-Data-Scientist/?page=9&jobid=19669177',\n",
       " 'https://www.occ.com.mx/empleos/de-Data-Scientist/?page=9&jobid=19669641',\n",
       " 'https://www.occ.com.mx/empleos/de-Data-Scientist/?page=9&jobid=19667886',\n",
       " 'https://www.occ.com.mx/empleos/de-Data-Scientist/?page=9&jobid=19666693',\n",
       " 'https://www.occ.com.mx/empleos/de-Data-Scientist/?page=9&jobid=19692973',\n",
       " 'https://www.occ.com.mx/empleos/de-Data-Scientist/?page=9&jobid=19684116',\n",
       " 'https://www.occ.com.mx/empleos/de-Data-Scientist/?page=9&jobid=19684254',\n",
       " 'https://www.occ.com.mx/empleos/de-Data-Scientist/?page=9&jobid=19692561',\n",
       " 'https://www.occ.com.mx/empleos/de-Data-Scientist/?page=9&jobid=19667824',\n",
       " 'https://www.occ.com.mx/empleos/de-Data-Scientist/?page=9&jobid=19693277',\n",
       " 'https://www.occ.com.mx/empleos/de-Data-Scientist/?page=9&jobid=19639749',\n",
       " 'https://www.occ.com.mx/empleos/de-Data-Scientist/?page=9&jobid=19626321',\n",
       " 'https://www.occ.com.mx/empleos/de-Data-Scientist/?page=9&jobid=19534341',\n",
       " 'https://www.occ.com.mx/empleos/de-Data-Scientist/?page=9&jobid=19631301',\n",
       " 'https://www.occ.com.mx/empleos/de-Data-Scientist/?page=9&jobid=19622009',\n",
       " 'https://www.occ.com.mx/empleos/de-Data-Scientist/?page=9&jobid=19621097',\n",
       " 'https://www.occ.com.mx/empleos/de-Data-Scientist/?page=9&jobid=19621690',\n",
       " 'https://www.occ.com.mx/empleos/de-Data-Scientist/?page=9&jobid=19542078',\n",
       " 'https://www.occ.com.mx/empleos/de-Data-Scientist/?page=10&jobid=19622091',\n",
       " 'https://www.occ.com.mx/empleos/de-Data-Scientist/?page=10&jobid=19621524',\n",
       " 'https://www.occ.com.mx/empleos/de-Data-Scientist/?page=10&jobid=19621476',\n",
       " 'https://www.occ.com.mx/empleos/de-Data-Scientist/?page=10&jobid=19621399',\n",
       " 'https://www.occ.com.mx/empleos/de-Data-Scientist/?page=10&jobid=19621791',\n",
       " 'https://www.occ.com.mx/empleos/de-Data-Scientist/?page=10&jobid=19621854',\n",
       " 'https://www.occ.com.mx/empleos/de-Data-Scientist/?page=10&jobid=19538343',\n",
       " 'https://www.occ.com.mx/empleos/de-Data-Scientist/?page=10&jobid=19533632',\n",
       " 'https://www.occ.com.mx/empleos/de-Data-Scientist/?page=10&jobid=19650412',\n",
       " 'https://www.occ.com.mx/empleos/de-Data-Scientist/?page=10&jobid=19627115',\n",
       " 'https://www.occ.com.mx/empleos/de-Data-Scientist/?page=10&jobid=19621407',\n",
       " 'https://www.occ.com.mx/empleos/de-Data-Scientist/?page=10&jobid=19620814',\n",
       " 'https://www.occ.com.mx/empleos/de-Data-Scientist/?page=10&jobid=19620811',\n",
       " 'https://www.occ.com.mx/empleos/de-Data-Scientist/?page=10&jobid=19650575',\n",
       " 'https://www.occ.com.mx/empleos/de-Data-Scientist/?page=10&jobid=19627130',\n",
       " 'https://www.occ.com.mx/empleos/de-Data-Scientist/?page=10&jobid=19626755',\n",
       " 'https://www.occ.com.mx/empleos/de-Data-Scientist/?page=10&jobid=19626279',\n",
       " 'https://www.occ.com.mx/empleos/de-Data-Scientist/?page=10&jobid=19621979',\n",
       " 'https://www.occ.com.mx/empleos/de-Data-Scientist/?page=10&jobid=19621976',\n",
       " 'https://www.occ.com.mx/empleos/de-Data-Scientist/?page=10&jobid=19621499']"
      ]
     },
     "execution_count": 5,
     "metadata": {},
     "output_type": "execute_result"
    }
   ],
   "source": [
    "urls2=urls.loc[urls[\"indice\"]>114,[\"urls\"]][\"urls\"].tolist()\n",
    "urls2"
   ]
  },
  {
   "cell_type": "markdown",
   "id": "97f1e924-e9f1-43eb-9ced-b42fafa8a27f",
   "metadata": {},
   "source": [
    "### Extraer datos ejemplos"
   ]
  },
  {
   "cell_type": "code",
   "execution_count": null,
   "id": "748ab414-dc33-473f-9e2c-d05f5efd4b86",
   "metadata": {},
   "outputs": [],
   "source": [
    "driver=webdriver.Firefox()\n",
    "url=urls[0]\n",
    "driver.get(url)\n",
    "soup=BeautifulSoup(driver.page_source,\"lxml\")\n",
    "driver.quit()"
   ]
  },
  {
   "cell_type": "code",
   "execution_count": null,
   "id": "b8db3382-1c0b-4907-89f3-f00f5d1db22e",
   "metadata": {},
   "outputs": [],
   "source": [
    "soup"
   ]
  },
  {
   "cell_type": "code",
   "execution_count": null,
   "id": "5504bf11-acbc-44a6-84d1-55c076dd7399",
   "metadata": {},
   "outputs": [],
   "source": [
    "urls[0]"
   ]
  },
  {
   "cell_type": "code",
   "execution_count": null,
   "id": "703b8ccb-a4fc-45d3-b63b-3955cc8e4fb8",
   "metadata": {},
   "outputs": [],
   "source": [
    "puesto=soup.find(\"div\",class_=\"flex justify-between items-center mt-2\").find(\"p\").text\n",
    "sueldo=soup.find(\"div\",class_=\"flex flex-wrap gap-x-1 mt-1 items-center\").find(\"p\").text\n",
    "compañía=soup.find_all(\"div\",class_=\"mt-1\")[1].find(\"span\").text\n",
    "descripción=soup.find_all(\"div\",class_=\"break-words mb-8\")"
   ]
  },
  {
   "cell_type": "code",
   "execution_count": null,
   "id": "60fd994a-44b2-4715-b3c0-e81bcd633f97",
   "metadata": {},
   "outputs": [],
   "source": [
    "soup.find_all(\"div\",class_=\"break-words mb-8\")"
   ]
  },
  {
   "cell_type": "markdown",
   "id": "3e3e6b51-dcef-43f0-ac03-b4d5e8673c48",
   "metadata": {},
   "source": [
    "### Generar masivo"
   ]
  },
  {
   "cell_type": "code",
   "execution_count": 6,
   "id": "f1df2dbd-580d-4e56-b20a-3f2d2f39d042",
   "metadata": {},
   "outputs": [
    {
     "name": "stdout",
     "output_type": "stream",
     "text": [
      "1\n",
      "Data Scientist (Remote)\n",
      "2\n",
      "Gerente Data Scientist AML _ Contraloria Norm\n",
      "3\n",
      "Media Search Analyst\n",
      "4\n",
      "Senior Manager, Data Science and AI Technical Product Owner\n",
      "5\n",
      "Senior Manager, Data Science and AI Technical Product Owner\n",
      "6\n",
      "Director, AI and Data Science Frontend Engineering Lead\n",
      "7\n",
      "Director, AI and Data Science Frontend Engineering Lead\n",
      "8\n",
      "Consultor de Datos y Tecnología\n",
      "9\n",
      "Banquero/a Patrimonial Terranova (Guadalajara, Jalisco)\n",
      "10\n",
      "Data Specialist:ETL DataStage\n",
      "11\n",
      "Banquero/a Asociado Terranova (Guadalajara, Jalisco)\n",
      "12\n",
      "Asesoría Digital (Madera, Chih)\n",
      "13\n",
      "Asesoria digital (Navolato, Sin.)\n",
      "14\n",
      "Asesoria Digital (Guasave, Sin)\n",
      "15\n",
      "BANQUERO JR MX\n",
      "16\n",
      "ASESOR DIGITAL PARA EMPALME\n",
      "17\n",
      "Asesoría Digital (Ciudad de México, Azcapotzalco)\n",
      "18\n",
      "Asesoría Digital (Navojoa, Son.)\n",
      "19\n",
      "Personal de Cajas (San Quintin, Baja California)\n",
      "20\n",
      "Asesoria Digital Pool (Todos Santos, Baja California Sur)\n",
      "21\n",
      "Ejecutivo/a de Cobranza (Puerto Vallarta, Jalisco)\n",
      "22\n",
      "Personal de Cajas (El Fuerte, Sin)\n",
      "23\n",
      "Personal de cajas (Tecate, B. C.)\n",
      "24\n",
      "Personal de Cajas (Ciudad de México, Azcapotzalco)\n",
      "25\n",
      "Especialista en seguridad perimetral (Ciudad de México, Miguel Hidalgo)\n",
      "26\n",
      "Banquero/a Jr Tijuana B.C (Playas)\n",
      "27\n",
      "Personal de Cajas (Autlán, Jalisco)\n",
      "28\n",
      "Analista de prevención de lavado de dinero(Ciudad de México, Miguel Hidalgo\n",
      "29\n",
      "Arquitecto Soporte a la Producción Cobol (Miguel Hidalogo, Ciudad de México)\n",
      "30\n",
      "Asesoría Digital (Cananea, Son.)\n",
      "31\n",
      "Asesoría Digital (Nacozari, Son.)\n",
      "32\n",
      "Asesoría digital (Caborca, Son.)\n",
      "33\n",
      "Personal de Cajas (El Dorado, Sin)\n",
      "34\n",
      "Desarrollador(a) CELLS para Escenarios BEyG (Ciudad de México, Miguel Hidalgo)\n",
      "35\n",
      "Personal de cajas (Nuevo Casas Grandes, Chih)\n",
      "36\n",
      "Personal de cajas (Magdalena, Son.)\n",
      "37\n",
      "Personal de Cajas (Estado de México, Interlomas)\n",
      "38\n",
      "Desarrollador/a Java (Ciudad de México, Miguel Hidalgo)\n",
      "39\n",
      "Personal de Cajas (Asención, Cd. Juarez)\n",
      "40\n",
      "Asesoría Digital (Saucillo, Chih)\n",
      "41\n",
      "Banquero/a Cuentas Clave (Querétaro, Qro)\n",
      "42\n",
      "Evergreen Banquero/a (San Luis Potosí SLP, Externos)\n",
      "43\n",
      "Personal de Caja (Celaya, Gto)\n",
      "44\n",
      "Personal de Cajas (Huatabampo, Son.)\n",
      "45\n",
      "Personal de Cajas (Miguel Alemán, Son,)\n",
      "46\n",
      "Banquero/a Asociado (Uruapan, Michoacán)\n",
      "47\n",
      "Asesor/a de Promoción UHN (Ciudad de México, Cuauhtémoc)\n",
      "48\n",
      "Service Manger\n",
      "49\n",
      "Ejecutivo/a Empresarial (Aguascalientes, Ags)\n",
      "50\n",
      "Ejecutivo/a Empresarial (León, Gto)\n",
      "51\n",
      "ASESOR DIGITAL I\n",
      "52\n",
      "Evergreen Ejecutivo/a Comercial Sr. Banca de EyG (San Luis Potosí, SLP)\n",
      "53\n",
      "Evergreen Ejecutivo/a Comercial Sr. Banca de EyG (Querétaro, QRO)\n",
      "54\n",
      "Procurement Data Engineer III\n",
      "55\n",
      "Manager de Disciplina de Nómina y Segmentos Especializados (Ciudad de México, Cuauhtémoc)\n",
      "56\n",
      "Data Specialist:ETL DataStage\n",
      "57\n",
      "Data Scientist\n",
      "58\n",
      "Data Scientist Sr\n",
      "59\n",
      "Data Scientist, Pricing Analytics\n",
      "60\n",
      "Principal Data Scientist, Predictive Modeling\n",
      "61\n",
      "Data Scientist Expert (Ciudad de México, Cuauhtémoc)\n",
      "62\n",
      "Data Scientist Manager (Cuauhtémoc, Ciudad de México)\n",
      "63\n",
      "Diferida - Data Scientist Associate,(Ciudad de México, Cuauhtémoc)\n",
      "64\n",
      "Data Science Senior Analyst - Feature Engineering\n",
      "65\n",
      "Ejecutivo/a de Cobranza (Puerto Vallarta, Jalisco)\n",
      "66\n",
      "Gerencia Cobranza Mixta (Monterrey, Nuevo León)\n",
      "67\n",
      "Banquero/a Patrimonial (Acapulco)\n",
      "68\n",
      "Ejecutivo/a de Cobranza (Monterrey, Nuevo León)\n",
      "69\n",
      "Banquero/a Patrimonial (Aguascalientes, Aguascalientes)\n",
      "70\n",
      "Banquero Patrimonial (Hermosillo, Sonora)\n",
      "71\n",
      "Data Analyst\n",
      "72\n",
      "Data Analyst\n",
      "73\n",
      "ANALISTA DE PROMOCIÓN DE NEGOCIO - RED AGENTES II A MX 1\n",
      "74\n",
      "Ejecutivo/a de Servicio PyME (Cuernavaca, Morelos)\n",
      "75\n",
      "EJECUTIVO PYME POOL MX\n",
      "76\n",
      "Ejecutivo/a de Servicios Pyme ( San Luis Potosí, San Luis Potosí)\n",
      "77\n",
      "Ejecutivo/a comercial BEyG (Culiacán, Sin.)\n",
      "78\n",
      "Asesoría Digital (Tamaulipas Norte)\n",
      "79\n",
      "Asesoría Digital (Oaxaca, Oaxaca)\n",
      "80\n",
      "Evergreen - Banquero/a (Zacatecas, Zac.)\n",
      "81\n",
      "Asesoría Digital (Chilpancingo, Guerrero)\n",
      "82\n",
      "Ops Back Office Analyst Bussines Execution (Tijuana, B.C)\n",
      "83\n",
      "Asesoría Digital para Personas con Discapacidad (Zona Bajio)\n",
      "84\n",
      "Asesoría Digital, Estado de México, Satelite)\n"
     ]
    }
   ],
   "source": [
    "puestos=[]\n",
    "sueldos=[]\n",
    "compañías=[]\n",
    "descripciones=[]\n",
    "i=0\n",
    "for url in urls2:\n",
    "    soup=get_soup(url)\n",
    "    puesto,sueldo,compañía,descripción=web_scrapping(soup)\n",
    "    i=i+1\n",
    "    print(i)\n",
    "    print(puesto)\n",
    "\n",
    "    puestos.append(puesto)\n",
    "    sueldos.append(sueldo)\n",
    "    compañías.append(compañía)\n",
    "    descripciones.append(descripción)"
   ]
  },
  {
   "cell_type": "code",
   "execution_count": 7,
   "id": "4cd0bf05-8a75-46c4-8398-8358c630d31b",
   "metadata": {},
   "outputs": [],
   "source": [
    "puestos2=pd.Series(puestos,name=\"puestos\")\n",
    "sueldos2=pd.Series(sueldos,name=\"sueldos\")\n",
    "compañías2=pd.Series(compañías,name=\"compañías\")\n",
    "descripciones2=pd.Series(descripciones,name=\"descripciones\")"
   ]
  },
  {
   "cell_type": "code",
   "execution_count": 8,
   "id": "9831015e-dce3-4249-be3b-820cbab5e751",
   "metadata": {},
   "outputs": [],
   "source": [
    "df=pd.concat([puestos2,sueldos2,compañías2,descripciones2],axis=1,ignore_index=True)"
   ]
  },
  {
   "cell_type": "code",
   "execution_count": 9,
   "id": "1b30e40e-a282-48fd-bd9d-d231ff70c162",
   "metadata": {},
   "outputs": [],
   "source": [
    "df.to_excel(r\"C:\\Users\\flavio.colmenares\\Desktop\\BI\\Armados\\0.-Proyectos propios\\Scrapping OCC\\parte5.xlsx\")"
   ]
  },
  {
   "cell_type": "code",
   "execution_count": 10,
   "id": "1454f4df-b3fe-4980-bb4f-9cf7b9a2183b",
   "metadata": {},
   "outputs": [
    {
     "data": {
      "text/plain": [
       "(84, 4)"
      ]
     },
     "execution_count": 10,
     "metadata": {},
     "output_type": "execute_result"
    }
   ],
   "source": [
    "#0-28 primera iteración\n",
    "#29-32 segunda iteración\n",
    "#33-69 tercera iteración\n",
    "#70-114 cuarta iteración\n",
    "#115-198\n",
    "df.shape"
   ]
  },
  {
   "cell_type": "code",
   "execution_count": 11,
   "id": "6b8883e2-cc6a-42db-b027-776dc6cd11da",
   "metadata": {},
   "outputs": [
    {
     "data": {
      "text/plain": [
       "198"
      ]
     },
     "execution_count": 11,
     "metadata": {},
     "output_type": "execute_result"
    }
   ],
   "source": [
    "114+84"
   ]
  },
  {
   "cell_type": "code",
   "execution_count": 12,
   "id": "30efa1d4-3e32-40d5-ab40-bb91a657abdf",
   "metadata": {},
   "outputs": [
    {
     "data": {
      "text/plain": [
       "'https://www.occ.com.mx/empleos/de-Data-Scientist/?page=10&jobid=19621499'"
      ]
     },
     "execution_count": 12,
     "metadata": {},
     "output_type": "execute_result"
    }
   ],
   "source": [
    "url"
   ]
  },
  {
   "cell_type": "code",
   "execution_count": null,
   "id": "ff94abff-cf15-4114-a388-238111b5b916",
   "metadata": {},
   "outputs": [],
   "source": []
  }
 ],
 "metadata": {
  "kernelspec": {
   "display_name": "Python 3 (ipykernel)",
   "language": "python",
   "name": "python3"
  },
  "language_info": {
   "codemirror_mode": {
    "name": "ipython",
    "version": 3
   },
   "file_extension": ".py",
   "mimetype": "text/x-python",
   "name": "python",
   "nbconvert_exporter": "python",
   "pygments_lexer": "ipython3",
   "version": "3.12.3"
  }
 },
 "nbformat": 4,
 "nbformat_minor": 5
}
